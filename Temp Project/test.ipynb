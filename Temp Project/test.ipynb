{
 "cells": [
  {
   "cell_type": "code",
   "execution_count": 1,
   "metadata": {},
   "outputs": [],
   "source": [
    "import pandas as pd\n",
    "import pandas as pd\n",
    "import streamlit as st\n",
    "from sklearn.preprocessing import StandardScaler"
   ]
  },
  {
   "cell_type": "code",
   "execution_count": 2,
   "metadata": {},
   "outputs": [],
   "source": [
    "import pickle\n",
    "with open(\"N_model.sav\",\"rb\") as f:\n",
    "    x=pickle.load(f)"
   ]
  },
  {
   "cell_type": "code",
   "execution_count": 3,
   "metadata": {},
   "outputs": [
    {
     "data": {
      "text/plain": [
       "<bound method BaseEstimator.get_params of KerasClassifier(\n",
       "\tmodel=<keras.engine.sequential.Sequential object at 0x000001CC16499D00>\n",
       "\tbuild_fn=None\n",
       "\twarm_start=False\n",
       "\trandom_state=None\n",
       "\toptimizer=rmsprop\n",
       "\tloss=None\n",
       "\tmetrics=None\n",
       "\tbatch_size=10\n",
       "\tvalidation_batch_size=None\n",
       "\tverbose=1\n",
       "\tcallbacks=None\n",
       "\tvalidation_split=0.0\n",
       "\tshuffle=True\n",
       "\trun_eagerly=False\n",
       "\tepochs=70\n",
       "\tclass_weight=None\n",
       ")>"
      ]
     },
     "execution_count": 3,
     "metadata": {},
     "output_type": "execute_result"
    }
   ],
   "source": [
    "x.get_params"
   ]
  },
  {
   "cell_type": "code",
   "execution_count": 4,
   "metadata": {},
   "outputs": [],
   "source": [
    "with open(\"scaler.pkl\",\"rb\") as h:\n",
    "    scaler=pickle.load(h)"
   ]
  },
  {
   "cell_type": "code",
   "execution_count": 7,
   "metadata": {},
   "outputs": [
    {
     "name": "stderr",
     "output_type": "stream",
     "text": [
      "c:\\Users\\acer\\anaconda3\\lib\\site-packages\\sklearn\\base.py:493: FutureWarning: The feature names should match those that were passed during fit. Starting version 1.2, an error will be raised.\n",
      "Feature names unseen at fit time:\n",
      "- Age\n",
      "- Cholesterol\n",
      "- Diastolic_bp\n",
      "- Systolic_bp\n",
      "Feature names seen at fit time, yet now missing:\n",
      "- age\n",
      "- cholesterol\n",
      "- diastolic_bp\n",
      "- systolic_bp\n",
      "\n",
      "  warnings.warn(message, FutureWarning)\n"
     ]
    }
   ],
   "source": [
    "with open(\"scaler.pkl\",\"rb\") as h:\n",
    "    scaler=pickle.load(h)\n",
    "\n",
    "\n",
    "\n",
    "st.title('Model Deployment:Neural Network')\n",
    "st.sidebar.header(\"Please Enter your details below\")\n",
    "\n",
    "def user_ip():\n",
    "    Age = st.sidebar.number_input(\"Insert age\")\n",
    "    Systolic_bp = st.sidebar.number_input(\"Insert Systolic BP\")\n",
    "    Diastolic_bp = st.sidebar.number_input(\"Insert Diastolic_bp\")\n",
    "    Cholesterol = st.sidebar.number_input(\"Insert Cholesterol\")\n",
    "    data={'Age':Age,'Systolic_bp':Systolic_bp,'Diastolic_bp':Diastolic_bp,'Cholesterol':Cholesterol}\n",
    "    features = pd.DataFrame(data,index=[0])\n",
    "    return features\n",
    "df=user_ip()\n",
    "st.subheader(\"Your Enter data:\")\n",
    "st.write(df)\n",
    "st.subheader(\"Enter Data Standardized for Prediction..\")\n",
    "numeric_column=['age', 'systolic_bp', 'diastolic_bp', 'cholesterol']\n",
    "st.write(pd.DataFrame(scaler.transform(df), columns=[numeric_column]))"
   ]
  },
  {
   "cell_type": "code",
   "execution_count": null,
   "metadata": {},
   "outputs": [],
   "source": []
  },
  {
   "cell_type": "code",
   "execution_count": null,
   "metadata": {},
   "outputs": [],
   "source": []
  }
 ],
 "metadata": {
  "kernelspec": {
   "display_name": "Python 3.9.12 ('base')",
   "language": "python",
   "name": "python3"
  },
  "language_info": {
   "codemirror_mode": {
    "name": "ipython",
    "version": 3
   },
   "file_extension": ".py",
   "mimetype": "text/x-python",
   "name": "python",
   "nbconvert_exporter": "python",
   "pygments_lexer": "ipython3",
   "version": "3.9.12"
  },
  "orig_nbformat": 4,
  "vscode": {
   "interpreter": {
    "hash": "23bf0724a01b6ea9814e66f76182ea78c0ee849a72ca257c0e116bf83bb4960a"
   }
  }
 },
 "nbformat": 4,
 "nbformat_minor": 2
}
