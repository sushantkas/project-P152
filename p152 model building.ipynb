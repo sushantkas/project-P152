{
 "cells": [
  {
   "cell_type": "code",
   "execution_count": 178,
   "metadata": {},
   "outputs": [],
   "source": [
    "import pandas as pd\n",
    "import numpy as np\n",
    "import seaborn as sns\n",
    "import matplotlib.pyplot as plt\n",
    "import warnings\n",
    "warnings.filterwarnings(\"ignore\")"
   ]
  },
  {
   "cell_type": "code",
   "execution_count": 179,
   "metadata": {},
   "outputs": [],
   "source": [
    "p152=pd.read_csv(\"pronostico_dataset.csv\", sep=\";\",index_col=\"ID\")"
   ]
  },
  {
   "cell_type": "code",
   "execution_count": 180,
   "metadata": {},
   "outputs": [
    {
     "name": "stdout",
     "output_type": "stream",
     "text": [
      "<class 'pandas.core.frame.DataFrame'>\n",
      "Int64Index: 6000 entries, 0 to 5999\n",
      "Data columns (total 5 columns):\n",
      " #   Column        Non-Null Count  Dtype  \n",
      "---  ------        --------------  -----  \n",
      " 0   age           6000 non-null   float64\n",
      " 1   systolic_bp   6000 non-null   float64\n",
      " 2   diastolic_bp  6000 non-null   float64\n",
      " 3   cholesterol   6000 non-null   float64\n",
      " 4   prognosis     6000 non-null   object \n",
      "dtypes: float64(4), object(1)\n",
      "memory usage: 281.2+ KB\n"
     ]
    }
   ],
   "source": [
    "p152.info()"
   ]
  },
  {
   "cell_type": "code",
   "execution_count": 181,
   "metadata": {},
   "outputs": [],
   "source": [
    "numeric_column=['age', 'systolic_bp', 'diastolic_bp', 'cholesterol']"
   ]
  },
  {
   "cell_type": "code",
   "execution_count": 182,
   "metadata": {},
   "outputs": [
    {
     "data": {
      "text/html": [
       "<div>\n",
       "<style scoped>\n",
       "    .dataframe tbody tr th:only-of-type {\n",
       "        vertical-align: middle;\n",
       "    }\n",
       "\n",
       "    .dataframe tbody tr th {\n",
       "        vertical-align: top;\n",
       "    }\n",
       "\n",
       "    .dataframe thead th {\n",
       "        text-align: right;\n",
       "    }\n",
       "</style>\n",
       "<table border=\"1\" class=\"dataframe\">\n",
       "  <thead>\n",
       "    <tr style=\"text-align: right;\">\n",
       "      <th></th>\n",
       "      <th>age</th>\n",
       "      <th>systolic_bp</th>\n",
       "      <th>diastolic_bp</th>\n",
       "      <th>cholesterol</th>\n",
       "    </tr>\n",
       "  </thead>\n",
       "  <tbody>\n",
       "    <tr>\n",
       "      <th>count</th>\n",
       "      <td>6000.000000</td>\n",
       "      <td>6000.000000</td>\n",
       "      <td>6000.000000</td>\n",
       "      <td>6000.000000</td>\n",
       "    </tr>\n",
       "    <tr>\n",
       "      <th>mean</th>\n",
       "      <td>60.464121</td>\n",
       "      <td>100.694822</td>\n",
       "      <td>90.505547</td>\n",
       "      <td>100.628255</td>\n",
       "    </tr>\n",
       "    <tr>\n",
       "      <th>std</th>\n",
       "      <td>8.564392</td>\n",
       "      <td>10.669267</td>\n",
       "      <td>9.648200</td>\n",
       "      <td>10.433915</td>\n",
       "    </tr>\n",
       "    <tr>\n",
       "      <th>min</th>\n",
       "      <td>35.164761</td>\n",
       "      <td>69.675429</td>\n",
       "      <td>62.807105</td>\n",
       "      <td>69.967453</td>\n",
       "    </tr>\n",
       "    <tr>\n",
       "      <th>25%</th>\n",
       "      <td>54.371941</td>\n",
       "      <td>93.267420</td>\n",
       "      <td>83.641788</td>\n",
       "      <td>93.202373</td>\n",
       "    </tr>\n",
       "    <tr>\n",
       "      <th>50%</th>\n",
       "      <td>59.831159</td>\n",
       "      <td>100.119926</td>\n",
       "      <td>89.912429</td>\n",
       "      <td>100.060637</td>\n",
       "    </tr>\n",
       "    <tr>\n",
       "      <th>75%</th>\n",
       "      <td>65.809652</td>\n",
       "      <td>107.439501</td>\n",
       "      <td>96.682405</td>\n",
       "      <td>107.250829</td>\n",
       "    </tr>\n",
       "    <tr>\n",
       "      <th>max</th>\n",
       "      <td>103.279497</td>\n",
       "      <td>151.699660</td>\n",
       "      <td>133.456382</td>\n",
       "      <td>148.233544</td>\n",
       "    </tr>\n",
       "  </tbody>\n",
       "</table>\n",
       "</div>"
      ],
      "text/plain": [
       "               age  systolic_bp  diastolic_bp  cholesterol\n",
       "count  6000.000000  6000.000000   6000.000000  6000.000000\n",
       "mean     60.464121   100.694822     90.505547   100.628255\n",
       "std       8.564392    10.669267      9.648200    10.433915\n",
       "min      35.164761    69.675429     62.807105    69.967453\n",
       "25%      54.371941    93.267420     83.641788    93.202373\n",
       "50%      59.831159   100.119926     89.912429   100.060637\n",
       "75%      65.809652   107.439501     96.682405   107.250829\n",
       "max     103.279497   151.699660    133.456382   148.233544"
      ]
     },
     "execution_count": 182,
     "metadata": {},
     "output_type": "execute_result"
    }
   ],
   "source": [
    "p152.describe()"
   ]
  },
  {
   "cell_type": "code",
   "execution_count": 183,
   "metadata": {},
   "outputs": [],
   "source": [
    "log_=lambda x: np.log(x)\n",
    "p152_log=p152[numeric_column].apply(log_)\n",
    "p152_log[\"prognosis\"]=p152[\"prognosis\"]"
   ]
  },
  {
   "cell_type": "code",
   "execution_count": 184,
   "metadata": {},
   "outputs": [
    {
     "data": {
      "text/html": [
       "<div>\n",
       "<style scoped>\n",
       "    .dataframe tbody tr th:only-of-type {\n",
       "        vertical-align: middle;\n",
       "    }\n",
       "\n",
       "    .dataframe tbody tr th {\n",
       "        vertical-align: top;\n",
       "    }\n",
       "\n",
       "    .dataframe thead th {\n",
       "        text-align: right;\n",
       "    }\n",
       "</style>\n",
       "<table border=\"1\" class=\"dataframe\">\n",
       "  <thead>\n",
       "    <tr style=\"text-align: right;\">\n",
       "      <th></th>\n",
       "      <th>age</th>\n",
       "      <th>systolic_bp</th>\n",
       "      <th>diastolic_bp</th>\n",
       "      <th>cholesterol</th>\n",
       "      <th>prognosis</th>\n",
       "    </tr>\n",
       "    <tr>\n",
       "      <th>ID</th>\n",
       "      <th></th>\n",
       "      <th></th>\n",
       "      <th></th>\n",
       "      <th></th>\n",
       "      <th></th>\n",
       "    </tr>\n",
       "  </thead>\n",
       "  <tbody>\n",
       "    <tr>\n",
       "      <th>0</th>\n",
       "      <td>77.196340</td>\n",
       "      <td>85.288742</td>\n",
       "      <td>80.021878</td>\n",
       "      <td>79.957109</td>\n",
       "      <td>retinopathy</td>\n",
       "    </tr>\n",
       "    <tr>\n",
       "      <th>1</th>\n",
       "      <td>63.529850</td>\n",
       "      <td>99.379736</td>\n",
       "      <td>84.852361</td>\n",
       "      <td>110.382411</td>\n",
       "      <td>retinopathy</td>\n",
       "    </tr>\n",
       "    <tr>\n",
       "      <th>2</th>\n",
       "      <td>69.003986</td>\n",
       "      <td>111.349455</td>\n",
       "      <td>109.850616</td>\n",
       "      <td>100.828246</td>\n",
       "      <td>retinopathy</td>\n",
       "    </tr>\n",
       "    <tr>\n",
       "      <th>3</th>\n",
       "      <td>82.638210</td>\n",
       "      <td>95.056128</td>\n",
       "      <td>79.666851</td>\n",
       "      <td>87.066303</td>\n",
       "      <td>retinopathy</td>\n",
       "    </tr>\n",
       "    <tr>\n",
       "      <th>4</th>\n",
       "      <td>78.346286</td>\n",
       "      <td>109.154591</td>\n",
       "      <td>90.713220</td>\n",
       "      <td>92.511770</td>\n",
       "      <td>retinopathy</td>\n",
       "    </tr>\n",
       "    <tr>\n",
       "      <th>...</th>\n",
       "      <td>...</td>\n",
       "      <td>...</td>\n",
       "      <td>...</td>\n",
       "      <td>...</td>\n",
       "      <td>...</td>\n",
       "    </tr>\n",
       "    <tr>\n",
       "      <th>5995</th>\n",
       "      <td>49.611850</td>\n",
       "      <td>94.857639</td>\n",
       "      <td>86.615671</td>\n",
       "      <td>107.643986</td>\n",
       "      <td>no_retinopathy</td>\n",
       "    </tr>\n",
       "    <tr>\n",
       "      <th>5996</th>\n",
       "      <td>63.099686</td>\n",
       "      <td>100.039527</td>\n",
       "      <td>93.515186</td>\n",
       "      <td>104.971404</td>\n",
       "      <td>retinopathy</td>\n",
       "    </tr>\n",
       "    <tr>\n",
       "      <th>5997</th>\n",
       "      <td>55.562243</td>\n",
       "      <td>98.421446</td>\n",
       "      <td>102.697875</td>\n",
       "      <td>120.875951</td>\n",
       "      <td>retinopathy</td>\n",
       "    </tr>\n",
       "    <tr>\n",
       "      <th>5998</th>\n",
       "      <td>63.468956</td>\n",
       "      <td>106.809289</td>\n",
       "      <td>88.060631</td>\n",
       "      <td>106.052213</td>\n",
       "      <td>retinopathy</td>\n",
       "    </tr>\n",
       "    <tr>\n",
       "      <th>5999</th>\n",
       "      <td>62.506825</td>\n",
       "      <td>96.900784</td>\n",
       "      <td>86.878033</td>\n",
       "      <td>108.625436</td>\n",
       "      <td>no_retinopathy</td>\n",
       "    </tr>\n",
       "  </tbody>\n",
       "</table>\n",
       "<p>6000 rows × 5 columns</p>\n",
       "</div>"
      ],
      "text/plain": [
       "            age  systolic_bp  diastolic_bp  cholesterol       prognosis\n",
       "ID                                                                     \n",
       "0     77.196340    85.288742     80.021878    79.957109     retinopathy\n",
       "1     63.529850    99.379736     84.852361   110.382411     retinopathy\n",
       "2     69.003986   111.349455    109.850616   100.828246     retinopathy\n",
       "3     82.638210    95.056128     79.666851    87.066303     retinopathy\n",
       "4     78.346286   109.154591     90.713220    92.511770     retinopathy\n",
       "...         ...          ...           ...          ...             ...\n",
       "5995  49.611850    94.857639     86.615671   107.643986  no_retinopathy\n",
       "5996  63.099686   100.039527     93.515186   104.971404     retinopathy\n",
       "5997  55.562243    98.421446    102.697875   120.875951     retinopathy\n",
       "5998  63.468956   106.809289     88.060631   106.052213     retinopathy\n",
       "5999  62.506825    96.900784     86.878033   108.625436  no_retinopathy\n",
       "\n",
       "[6000 rows x 5 columns]"
      ]
     },
     "execution_count": 184,
     "metadata": {},
     "output_type": "execute_result"
    }
   ],
   "source": [
    "p152"
   ]
  },
  {
   "cell_type": "code",
   "execution_count": 185,
   "metadata": {},
   "outputs": [
    {
     "data": {
      "text/html": [
       "<div>\n",
       "<style scoped>\n",
       "    .dataframe tbody tr th:only-of-type {\n",
       "        vertical-align: middle;\n",
       "    }\n",
       "\n",
       "    .dataframe tbody tr th {\n",
       "        vertical-align: top;\n",
       "    }\n",
       "\n",
       "    .dataframe thead th {\n",
       "        text-align: right;\n",
       "    }\n",
       "</style>\n",
       "<table border=\"1\" class=\"dataframe\">\n",
       "  <thead>\n",
       "    <tr style=\"text-align: right;\">\n",
       "      <th></th>\n",
       "      <th>age</th>\n",
       "      <th>systolic_bp</th>\n",
       "      <th>diastolic_bp</th>\n",
       "      <th>cholesterol</th>\n",
       "      <th>prognosis</th>\n",
       "    </tr>\n",
       "    <tr>\n",
       "      <th>ID</th>\n",
       "      <th></th>\n",
       "      <th></th>\n",
       "      <th></th>\n",
       "      <th></th>\n",
       "      <th></th>\n",
       "    </tr>\n",
       "  </thead>\n",
       "  <tbody>\n",
       "    <tr>\n",
       "      <th>0</th>\n",
       "      <td>4.346352</td>\n",
       "      <td>4.446042</td>\n",
       "      <td>4.382300</td>\n",
       "      <td>4.381490</td>\n",
       "      <td>retinopathy</td>\n",
       "    </tr>\n",
       "    <tr>\n",
       "      <th>1</th>\n",
       "      <td>4.151510</td>\n",
       "      <td>4.598948</td>\n",
       "      <td>4.440913</td>\n",
       "      <td>4.703951</td>\n",
       "      <td>retinopathy</td>\n",
       "    </tr>\n",
       "    <tr>\n",
       "      <th>2</th>\n",
       "      <td>4.234164</td>\n",
       "      <td>4.712673</td>\n",
       "      <td>4.699121</td>\n",
       "      <td>4.613419</td>\n",
       "      <td>retinopathy</td>\n",
       "    </tr>\n",
       "    <tr>\n",
       "      <th>3</th>\n",
       "      <td>4.414472</td>\n",
       "      <td>4.554468</td>\n",
       "      <td>4.377854</td>\n",
       "      <td>4.466670</td>\n",
       "      <td>retinopathy</td>\n",
       "    </tr>\n",
       "    <tr>\n",
       "      <th>4</th>\n",
       "      <td>4.361139</td>\n",
       "      <td>4.692765</td>\n",
       "      <td>4.507703</td>\n",
       "      <td>4.527336</td>\n",
       "      <td>retinopathy</td>\n",
       "    </tr>\n",
       "    <tr>\n",
       "      <th>...</th>\n",
       "      <td>...</td>\n",
       "      <td>...</td>\n",
       "      <td>...</td>\n",
       "      <td>...</td>\n",
       "      <td>...</td>\n",
       "    </tr>\n",
       "    <tr>\n",
       "      <th>5995</th>\n",
       "      <td>3.904230</td>\n",
       "      <td>4.552377</td>\n",
       "      <td>4.461481</td>\n",
       "      <td>4.678829</td>\n",
       "      <td>no_retinopathy</td>\n",
       "    </tr>\n",
       "    <tr>\n",
       "      <th>5996</th>\n",
       "      <td>4.144716</td>\n",
       "      <td>4.605565</td>\n",
       "      <td>4.538124</td>\n",
       "      <td>4.653688</td>\n",
       "      <td>retinopathy</td>\n",
       "    </tr>\n",
       "    <tr>\n",
       "      <th>5997</th>\n",
       "      <td>4.017504</td>\n",
       "      <td>4.589259</td>\n",
       "      <td>4.631791</td>\n",
       "      <td>4.794765</td>\n",
       "      <td>retinopathy</td>\n",
       "    </tr>\n",
       "    <tr>\n",
       "      <th>5998</th>\n",
       "      <td>4.150551</td>\n",
       "      <td>4.671045</td>\n",
       "      <td>4.478026</td>\n",
       "      <td>4.663932</td>\n",
       "      <td>retinopathy</td>\n",
       "    </tr>\n",
       "    <tr>\n",
       "      <th>5999</th>\n",
       "      <td>4.135276</td>\n",
       "      <td>4.573688</td>\n",
       "      <td>4.464505</td>\n",
       "      <td>4.687906</td>\n",
       "      <td>no_retinopathy</td>\n",
       "    </tr>\n",
       "  </tbody>\n",
       "</table>\n",
       "<p>6000 rows × 5 columns</p>\n",
       "</div>"
      ],
      "text/plain": [
       "           age  systolic_bp  diastolic_bp  cholesterol       prognosis\n",
       "ID                                                                    \n",
       "0     4.346352     4.446042      4.382300     4.381490     retinopathy\n",
       "1     4.151510     4.598948      4.440913     4.703951     retinopathy\n",
       "2     4.234164     4.712673      4.699121     4.613419     retinopathy\n",
       "3     4.414472     4.554468      4.377854     4.466670     retinopathy\n",
       "4     4.361139     4.692765      4.507703     4.527336     retinopathy\n",
       "...        ...          ...           ...          ...             ...\n",
       "5995  3.904230     4.552377      4.461481     4.678829  no_retinopathy\n",
       "5996  4.144716     4.605565      4.538124     4.653688     retinopathy\n",
       "5997  4.017504     4.589259      4.631791     4.794765     retinopathy\n",
       "5998  4.150551     4.671045      4.478026     4.663932     retinopathy\n",
       "5999  4.135276     4.573688      4.464505     4.687906  no_retinopathy\n",
       "\n",
       "[6000 rows x 5 columns]"
      ]
     },
     "execution_count": 185,
     "metadata": {},
     "output_type": "execute_result"
    }
   ],
   "source": [
    "p152_log"
   ]
  },
  {
   "cell_type": "markdown",
   "metadata": {},
   "source": [
    "# Model Buidling"
   ]
  },
  {
   "cell_type": "markdown",
   "metadata": {},
   "source": [
    "## Logistic Model"
   ]
  },
  {
   "cell_type": "code",
   "execution_count": 186,
   "metadata": {},
   "outputs": [],
   "source": [
    "from sklearn.linear_model import LogisticRegression\n",
    "normal_model=LogisticRegression()\n"
   ]
  },
  {
   "cell_type": "code",
   "execution_count": 187,
   "metadata": {},
   "outputs": [
    {
     "data": {
      "text/html": [
       "<div>\n",
       "<style scoped>\n",
       "    .dataframe tbody tr th:only-of-type {\n",
       "        vertical-align: middle;\n",
       "    }\n",
       "\n",
       "    .dataframe tbody tr th {\n",
       "        vertical-align: top;\n",
       "    }\n",
       "\n",
       "    .dataframe thead th {\n",
       "        text-align: right;\n",
       "    }\n",
       "</style>\n",
       "<table border=\"1\" class=\"dataframe\">\n",
       "  <thead>\n",
       "    <tr style=\"text-align: right;\">\n",
       "      <th></th>\n",
       "      <th>age</th>\n",
       "      <th>systolic_bp</th>\n",
       "      <th>diastolic_bp</th>\n",
       "      <th>cholesterol</th>\n",
       "      <th>prognosis</th>\n",
       "    </tr>\n",
       "    <tr>\n",
       "      <th>ID</th>\n",
       "      <th></th>\n",
       "      <th></th>\n",
       "      <th></th>\n",
       "      <th></th>\n",
       "      <th></th>\n",
       "    </tr>\n",
       "  </thead>\n",
       "  <tbody>\n",
       "    <tr>\n",
       "      <th>0</th>\n",
       "      <td>4.346352</td>\n",
       "      <td>4.446042</td>\n",
       "      <td>4.382300</td>\n",
       "      <td>4.381490</td>\n",
       "      <td>retinopathy</td>\n",
       "    </tr>\n",
       "    <tr>\n",
       "      <th>1</th>\n",
       "      <td>4.151510</td>\n",
       "      <td>4.598948</td>\n",
       "      <td>4.440913</td>\n",
       "      <td>4.703951</td>\n",
       "      <td>retinopathy</td>\n",
       "    </tr>\n",
       "    <tr>\n",
       "      <th>2</th>\n",
       "      <td>4.234164</td>\n",
       "      <td>4.712673</td>\n",
       "      <td>4.699121</td>\n",
       "      <td>4.613419</td>\n",
       "      <td>retinopathy</td>\n",
       "    </tr>\n",
       "    <tr>\n",
       "      <th>3</th>\n",
       "      <td>4.414472</td>\n",
       "      <td>4.554468</td>\n",
       "      <td>4.377854</td>\n",
       "      <td>4.466670</td>\n",
       "      <td>retinopathy</td>\n",
       "    </tr>\n",
       "    <tr>\n",
       "      <th>4</th>\n",
       "      <td>4.361139</td>\n",
       "      <td>4.692765</td>\n",
       "      <td>4.507703</td>\n",
       "      <td>4.527336</td>\n",
       "      <td>retinopathy</td>\n",
       "    </tr>\n",
       "    <tr>\n",
       "      <th>...</th>\n",
       "      <td>...</td>\n",
       "      <td>...</td>\n",
       "      <td>...</td>\n",
       "      <td>...</td>\n",
       "      <td>...</td>\n",
       "    </tr>\n",
       "    <tr>\n",
       "      <th>5995</th>\n",
       "      <td>3.904230</td>\n",
       "      <td>4.552377</td>\n",
       "      <td>4.461481</td>\n",
       "      <td>4.678829</td>\n",
       "      <td>no_retinopathy</td>\n",
       "    </tr>\n",
       "    <tr>\n",
       "      <th>5996</th>\n",
       "      <td>4.144716</td>\n",
       "      <td>4.605565</td>\n",
       "      <td>4.538124</td>\n",
       "      <td>4.653688</td>\n",
       "      <td>retinopathy</td>\n",
       "    </tr>\n",
       "    <tr>\n",
       "      <th>5997</th>\n",
       "      <td>4.017504</td>\n",
       "      <td>4.589259</td>\n",
       "      <td>4.631791</td>\n",
       "      <td>4.794765</td>\n",
       "      <td>retinopathy</td>\n",
       "    </tr>\n",
       "    <tr>\n",
       "      <th>5998</th>\n",
       "      <td>4.150551</td>\n",
       "      <td>4.671045</td>\n",
       "      <td>4.478026</td>\n",
       "      <td>4.663932</td>\n",
       "      <td>retinopathy</td>\n",
       "    </tr>\n",
       "    <tr>\n",
       "      <th>5999</th>\n",
       "      <td>4.135276</td>\n",
       "      <td>4.573688</td>\n",
       "      <td>4.464505</td>\n",
       "      <td>4.687906</td>\n",
       "      <td>no_retinopathy</td>\n",
       "    </tr>\n",
       "  </tbody>\n",
       "</table>\n",
       "<p>6000 rows × 5 columns</p>\n",
       "</div>"
      ],
      "text/plain": [
       "           age  systolic_bp  diastolic_bp  cholesterol       prognosis\n",
       "ID                                                                    \n",
       "0     4.346352     4.446042      4.382300     4.381490     retinopathy\n",
       "1     4.151510     4.598948      4.440913     4.703951     retinopathy\n",
       "2     4.234164     4.712673      4.699121     4.613419     retinopathy\n",
       "3     4.414472     4.554468      4.377854     4.466670     retinopathy\n",
       "4     4.361139     4.692765      4.507703     4.527336     retinopathy\n",
       "...        ...          ...           ...          ...             ...\n",
       "5995  3.904230     4.552377      4.461481     4.678829  no_retinopathy\n",
       "5996  4.144716     4.605565      4.538124     4.653688     retinopathy\n",
       "5997  4.017504     4.589259      4.631791     4.794765     retinopathy\n",
       "5998  4.150551     4.671045      4.478026     4.663932     retinopathy\n",
       "5999  4.135276     4.573688      4.464505     4.687906  no_retinopathy\n",
       "\n",
       "[6000 rows x 5 columns]"
      ]
     },
     "execution_count": 187,
     "metadata": {},
     "output_type": "execute_result"
    }
   ],
   "source": [
    "p152_log"
   ]
  },
  {
   "cell_type": "code",
   "execution_count": 188,
   "metadata": {},
   "outputs": [],
   "source": [
    "x=p152_log.drop(\"prognosis\", axis=1)\n",
    "y=p152_log[\"prognosis\"]"
   ]
  },
  {
   "cell_type": "code",
   "execution_count": 189,
   "metadata": {},
   "outputs": [
    {
     "data": {
      "text/plain": [
       "0.7421666666666666"
      ]
     },
     "execution_count": 189,
     "metadata": {},
     "output_type": "execute_result"
    }
   ],
   "source": [
    "log_model=LogisticRegression()\n",
    "log_model.fit(x,y)\n",
    "log_model.score(x,y)"
   ]
  },
  {
   "cell_type": "code",
   "execution_count": 190,
   "metadata": {},
   "outputs": [],
   "source": [
    "x=p152_log.drop([\"diastolic_bp\",\"cholesterol\",\"prognosis\"], axis=1)\n",
    "y=p152_log[\"prognosis\"]"
   ]
  },
  {
   "cell_type": "code",
   "execution_count": 191,
   "metadata": {},
   "outputs": [],
   "source": [
    "from sklearn.model_selection import train_test_split\n",
    "x_train,x_test,y_train,y_test=train_test_split(x,y, random_state=42,test_size=0.2)"
   ]
  },
  {
   "cell_type": "code",
   "execution_count": 192,
   "metadata": {},
   "outputs": [],
   "source": [
    "from sklearn.metrics import accuracy_score, confusion_matrix"
   ]
  },
  {
   "cell_type": "code",
   "execution_count": 193,
   "metadata": {},
   "outputs": [
    {
     "data": {
      "text/plain": [
       "0.7236666666666667"
      ]
     },
     "execution_count": 193,
     "metadata": {},
     "output_type": "execute_result"
    }
   ],
   "source": [
    "log_model=LogisticRegression()\n",
    "log_model.fit(x,y)\n",
    "log_model.score(x,y)"
   ]
  },
  {
   "cell_type": "code",
   "execution_count": 194,
   "metadata": {},
   "outputs": [
    {
     "data": {
      "text/plain": [
       "0.7236666666666667"
      ]
     },
     "execution_count": 194,
     "metadata": {},
     "output_type": "execute_result"
    }
   ],
   "source": [
    "accuracy_score(log_model.predict(x),y)"
   ]
  },
  {
   "cell_type": "code",
   "execution_count": 195,
   "metadata": {},
   "outputs": [
    {
     "data": {
      "text/plain": [
       "array([[2070,  815],\n",
       "       [ 843, 2272]], dtype=int64)"
      ]
     },
     "execution_count": 195,
     "metadata": {},
     "output_type": "execute_result"
    }
   ],
   "source": [
    "confusion_matrix(log_model.predict(x),y)"
   ]
  },
  {
   "cell_type": "code",
   "execution_count": 196,
   "metadata": {},
   "outputs": [
    {
     "data": {
      "text/html": [
       "<style>#sk-container-id-9 {color: black;background-color: white;}#sk-container-id-9 pre{padding: 0;}#sk-container-id-9 div.sk-toggleable {background-color: white;}#sk-container-id-9 label.sk-toggleable__label {cursor: pointer;display: block;width: 100%;margin-bottom: 0;padding: 0.3em;box-sizing: border-box;text-align: center;}#sk-container-id-9 label.sk-toggleable__label-arrow:before {content: \"▸\";float: left;margin-right: 0.25em;color: #696969;}#sk-container-id-9 label.sk-toggleable__label-arrow:hover:before {color: black;}#sk-container-id-9 div.sk-estimator:hover label.sk-toggleable__label-arrow:before {color: black;}#sk-container-id-9 div.sk-toggleable__content {max-height: 0;max-width: 0;overflow: hidden;text-align: left;background-color: #f0f8ff;}#sk-container-id-9 div.sk-toggleable__content pre {margin: 0.2em;color: black;border-radius: 0.25em;background-color: #f0f8ff;}#sk-container-id-9 input.sk-toggleable__control:checked~div.sk-toggleable__content {max-height: 200px;max-width: 100%;overflow: auto;}#sk-container-id-9 input.sk-toggleable__control:checked~label.sk-toggleable__label-arrow:before {content: \"▾\";}#sk-container-id-9 div.sk-estimator input.sk-toggleable__control:checked~label.sk-toggleable__label {background-color: #d4ebff;}#sk-container-id-9 div.sk-label input.sk-toggleable__control:checked~label.sk-toggleable__label {background-color: #d4ebff;}#sk-container-id-9 input.sk-hidden--visually {border: 0;clip: rect(1px 1px 1px 1px);clip: rect(1px, 1px, 1px, 1px);height: 1px;margin: -1px;overflow: hidden;padding: 0;position: absolute;width: 1px;}#sk-container-id-9 div.sk-estimator {font-family: monospace;background-color: #f0f8ff;border: 1px dotted black;border-radius: 0.25em;box-sizing: border-box;margin-bottom: 0.5em;}#sk-container-id-9 div.sk-estimator:hover {background-color: #d4ebff;}#sk-container-id-9 div.sk-parallel-item::after {content: \"\";width: 100%;border-bottom: 1px solid gray;flex-grow: 1;}#sk-container-id-9 div.sk-label:hover label.sk-toggleable__label {background-color: #d4ebff;}#sk-container-id-9 div.sk-serial::before {content: \"\";position: absolute;border-left: 1px solid gray;box-sizing: border-box;top: 0;bottom: 0;left: 50%;z-index: 0;}#sk-container-id-9 div.sk-serial {display: flex;flex-direction: column;align-items: center;background-color: white;padding-right: 0.2em;padding-left: 0.2em;position: relative;}#sk-container-id-9 div.sk-item {position: relative;z-index: 1;}#sk-container-id-9 div.sk-parallel {display: flex;align-items: stretch;justify-content: center;background-color: white;position: relative;}#sk-container-id-9 div.sk-item::before, #sk-container-id-9 div.sk-parallel-item::before {content: \"\";position: absolute;border-left: 1px solid gray;box-sizing: border-box;top: 0;bottom: 0;left: 50%;z-index: -1;}#sk-container-id-9 div.sk-parallel-item {display: flex;flex-direction: column;z-index: 1;position: relative;background-color: white;}#sk-container-id-9 div.sk-parallel-item:first-child::after {align-self: flex-end;width: 50%;}#sk-container-id-9 div.sk-parallel-item:last-child::after {align-self: flex-start;width: 50%;}#sk-container-id-9 div.sk-parallel-item:only-child::after {width: 0;}#sk-container-id-9 div.sk-dashed-wrapped {border: 1px dashed gray;margin: 0 0.4em 0.5em 0.4em;box-sizing: border-box;padding-bottom: 0.4em;background-color: white;}#sk-container-id-9 div.sk-label label {font-family: monospace;font-weight: bold;display: inline-block;line-height: 1.2em;}#sk-container-id-9 div.sk-label-container {text-align: center;}#sk-container-id-9 div.sk-container {/* jupyter's `normalize.less` sets `[hidden] { display: none; }` but bootstrap.min.css set `[hidden] { display: none !important; }` so we also need the `!important` here to be able to override the default hidden behavior on the sphinx rendered scikit-learn.org. See: https://github.com/scikit-learn/scikit-learn/issues/21755 */display: inline-block !important;position: relative;}#sk-container-id-9 div.sk-text-repr-fallback {display: none;}</style><div id=\"sk-container-id-9\" class=\"sk-top-container\"><div class=\"sk-text-repr-fallback\"><pre>DecisionTreeClassifier()</pre><b>In a Jupyter environment, please rerun this cell to show the HTML representation or trust the notebook. <br />On GitHub, the HTML representation is unable to render, please try loading this page with nbviewer.org.</b></div><div class=\"sk-container\" hidden><div class=\"sk-item\"><div class=\"sk-estimator sk-toggleable\"><input class=\"sk-toggleable__control sk-hidden--visually\" id=\"sk-estimator-id-9\" type=\"checkbox\" checked><label for=\"sk-estimator-id-9\" class=\"sk-toggleable__label sk-toggleable__label-arrow\">DecisionTreeClassifier</label><div class=\"sk-toggleable__content\"><pre>DecisionTreeClassifier()</pre></div></div></div></div></div>"
      ],
      "text/plain": [
       "DecisionTreeClassifier()"
      ]
     },
     "execution_count": 196,
     "metadata": {},
     "output_type": "execute_result"
    }
   ],
   "source": [
    "from sklearn.tree import  DecisionTreeClassifier\n",
    "model = DecisionTreeClassifier()\n",
    "model.fit(x, y)"
   ]
  },
  {
   "cell_type": "code",
   "execution_count": 197,
   "metadata": {},
   "outputs": [
    {
     "name": "stdout",
     "output_type": "stream",
     "text": [
      "[0.5186063 0.4813937]\n"
     ]
    }
   ],
   "source": [
    "print(model.feature_importances_)"
   ]
  },
  {
   "cell_type": "code",
   "execution_count": 198,
   "metadata": {},
   "outputs": [],
   "source": [
    "x=p152_log.drop(\"prognosis\", axis=1)\n",
    "y=p152_log[\"prognosis\"]"
   ]
  },
  {
   "cell_type": "code",
   "execution_count": 199,
   "metadata": {},
   "outputs": [],
   "source": [
    "from sklearn.feature_selection import RFE\n",
    "model = LogisticRegression(max_iter=400)\n",
    "rfe = RFE(model,)\n",
    "fit = rfe.fit(x, y)"
   ]
  },
  {
   "cell_type": "code",
   "execution_count": 200,
   "metadata": {},
   "outputs": [
    {
     "data": {
      "text/plain": [
       "2"
      ]
     },
     "execution_count": 200,
     "metadata": {},
     "output_type": "execute_result"
    }
   ],
   "source": [
    "fit.n_features_"
   ]
  },
  {
   "cell_type": "code",
   "execution_count": 201,
   "metadata": {},
   "outputs": [
    {
     "data": {
      "text/plain": [
       "array([1, 1, 3, 2])"
      ]
     },
     "execution_count": 201,
     "metadata": {},
     "output_type": "execute_result"
    }
   ],
   "source": [
    "fit.ranking_"
   ]
  },
  {
   "cell_type": "code",
   "execution_count": 202,
   "metadata": {},
   "outputs": [
    {
     "data": {
      "text/plain": [
       "2"
      ]
     },
     "execution_count": 202,
     "metadata": {},
     "output_type": "execute_result"
    }
   ],
   "source": [
    "fit.n_features_"
   ]
  },
  {
   "cell_type": "code",
   "execution_count": 203,
   "metadata": {},
   "outputs": [
    {
     "data": {
      "text/plain": [
       "array([ True,  True, False, False])"
      ]
     },
     "execution_count": 203,
     "metadata": {},
     "output_type": "execute_result"
    }
   ],
   "source": [
    "fit.support_"
   ]
  },
  {
   "cell_type": "code",
   "execution_count": 204,
   "metadata": {},
   "outputs": [
    {
     "data": {
      "text/plain": [
       "0.7266666666666667"
      ]
     },
     "execution_count": 204,
     "metadata": {},
     "output_type": "execute_result"
    }
   ],
   "source": [
    "from sklearn.ensemble import RandomForestClassifier\n",
    "\n",
    "r_forest=RandomForestClassifier(max_depth=4,n_jobs=-1, n_estimators=500)\n",
    "r_forest.fit(x_train,y_train)\n",
    "r_forest.score(x_test,y_test)"
   ]
  },
  {
   "cell_type": "code",
   "execution_count": 205,
   "metadata": {},
   "outputs": [
    {
     "name": "stdout",
     "output_type": "stream",
     "text": [
      "0.7158333333333333\n",
      "0.7191666666666666\n",
      "0.7291666666666666\n",
      "0.7341666666666666\n",
      "0.7308333333333333\n",
      "0.7266666666666667\n",
      "0.7266666666666667\n",
      "0.7183333333333334\n"
     ]
    }
   ],
   "source": [
    "for i in range(2,10):\n",
    "    r_forest=RandomForestClassifier(max_depth=i,n_jobs=-1, n_estimators=500)\n",
    "    r_forest.fit(x_train,y_train)\n",
    "    print(r_forest.score(x_test,y_test))"
   ]
  },
  {
   "cell_type": "code",
   "execution_count": 206,
   "metadata": {},
   "outputs": [
    {
     "data": {
      "text/plain": [
       "'for i in range(2,20):\\n    for j in range(100,1000,100):\\n            r_forest=RandomForestClassifier(max_depth=i,n_jobs=-1, n_estimators=j)\\n            r_forest.fit(x_train,y_train)\\n            print(f\"Max_Depth: {i},n_estimator:{j}\",r_forest.score(x_test,y_test))'"
      ]
     },
     "execution_count": 206,
     "metadata": {},
     "output_type": "execute_result"
    }
   ],
   "source": [
    "\"\"\"for i in range(2,20):\n",
    "    for j in range(100,1000,100):\n",
    "            r_forest=RandomForestClassifier(max_depth=i,n_jobs=-1, n_estimators=j)\n",
    "            r_forest.fit(x_train,y_train)\n",
    "            print(f\"Max_Depth: {i},n_estimator:{j}\",r_forest.score(x_test,y_test))\"\"\""
   ]
  },
  {
   "cell_type": "code",
   "execution_count": 207,
   "metadata": {},
   "outputs": [
    {
     "data": {
      "text/html": [
       "<div>\n",
       "<style scoped>\n",
       "    .dataframe tbody tr th:only-of-type {\n",
       "        vertical-align: middle;\n",
       "    }\n",
       "\n",
       "    .dataframe tbody tr th {\n",
       "        vertical-align: top;\n",
       "    }\n",
       "\n",
       "    .dataframe thead th {\n",
       "        text-align: right;\n",
       "    }\n",
       "</style>\n",
       "<table border=\"1\" class=\"dataframe\">\n",
       "  <thead>\n",
       "    <tr style=\"text-align: right;\">\n",
       "      <th></th>\n",
       "      <th>age</th>\n",
       "      <th>systolic_bp</th>\n",
       "      <th>diastolic_bp</th>\n",
       "      <th>cholesterol</th>\n",
       "      <th>prognosis</th>\n",
       "    </tr>\n",
       "    <tr>\n",
       "      <th>ID</th>\n",
       "      <th></th>\n",
       "      <th></th>\n",
       "      <th></th>\n",
       "      <th></th>\n",
       "      <th></th>\n",
       "    </tr>\n",
       "  </thead>\n",
       "  <tbody>\n",
       "    <tr>\n",
       "      <th>0</th>\n",
       "      <td>77.196340</td>\n",
       "      <td>85.288742</td>\n",
       "      <td>80.021878</td>\n",
       "      <td>79.957109</td>\n",
       "      <td>retinopathy</td>\n",
       "    </tr>\n",
       "    <tr>\n",
       "      <th>1</th>\n",
       "      <td>63.529850</td>\n",
       "      <td>99.379736</td>\n",
       "      <td>84.852361</td>\n",
       "      <td>110.382411</td>\n",
       "      <td>retinopathy</td>\n",
       "    </tr>\n",
       "    <tr>\n",
       "      <th>2</th>\n",
       "      <td>69.003986</td>\n",
       "      <td>111.349455</td>\n",
       "      <td>109.850616</td>\n",
       "      <td>100.828246</td>\n",
       "      <td>retinopathy</td>\n",
       "    </tr>\n",
       "    <tr>\n",
       "      <th>3</th>\n",
       "      <td>82.638210</td>\n",
       "      <td>95.056128</td>\n",
       "      <td>79.666851</td>\n",
       "      <td>87.066303</td>\n",
       "      <td>retinopathy</td>\n",
       "    </tr>\n",
       "    <tr>\n",
       "      <th>4</th>\n",
       "      <td>78.346286</td>\n",
       "      <td>109.154591</td>\n",
       "      <td>90.713220</td>\n",
       "      <td>92.511770</td>\n",
       "      <td>retinopathy</td>\n",
       "    </tr>\n",
       "    <tr>\n",
       "      <th>...</th>\n",
       "      <td>...</td>\n",
       "      <td>...</td>\n",
       "      <td>...</td>\n",
       "      <td>...</td>\n",
       "      <td>...</td>\n",
       "    </tr>\n",
       "    <tr>\n",
       "      <th>5995</th>\n",
       "      <td>49.611850</td>\n",
       "      <td>94.857639</td>\n",
       "      <td>86.615671</td>\n",
       "      <td>107.643986</td>\n",
       "      <td>no_retinopathy</td>\n",
       "    </tr>\n",
       "    <tr>\n",
       "      <th>5996</th>\n",
       "      <td>63.099686</td>\n",
       "      <td>100.039527</td>\n",
       "      <td>93.515186</td>\n",
       "      <td>104.971404</td>\n",
       "      <td>retinopathy</td>\n",
       "    </tr>\n",
       "    <tr>\n",
       "      <th>5997</th>\n",
       "      <td>55.562243</td>\n",
       "      <td>98.421446</td>\n",
       "      <td>102.697875</td>\n",
       "      <td>120.875951</td>\n",
       "      <td>retinopathy</td>\n",
       "    </tr>\n",
       "    <tr>\n",
       "      <th>5998</th>\n",
       "      <td>63.468956</td>\n",
       "      <td>106.809289</td>\n",
       "      <td>88.060631</td>\n",
       "      <td>106.052213</td>\n",
       "      <td>retinopathy</td>\n",
       "    </tr>\n",
       "    <tr>\n",
       "      <th>5999</th>\n",
       "      <td>62.506825</td>\n",
       "      <td>96.900784</td>\n",
       "      <td>86.878033</td>\n",
       "      <td>108.625436</td>\n",
       "      <td>no_retinopathy</td>\n",
       "    </tr>\n",
       "  </tbody>\n",
       "</table>\n",
       "<p>6000 rows × 5 columns</p>\n",
       "</div>"
      ],
      "text/plain": [
       "            age  systolic_bp  diastolic_bp  cholesterol       prognosis\n",
       "ID                                                                     \n",
       "0     77.196340    85.288742     80.021878    79.957109     retinopathy\n",
       "1     63.529850    99.379736     84.852361   110.382411     retinopathy\n",
       "2     69.003986   111.349455    109.850616   100.828246     retinopathy\n",
       "3     82.638210    95.056128     79.666851    87.066303     retinopathy\n",
       "4     78.346286   109.154591     90.713220    92.511770     retinopathy\n",
       "...         ...          ...           ...          ...             ...\n",
       "5995  49.611850    94.857639     86.615671   107.643986  no_retinopathy\n",
       "5996  63.099686   100.039527     93.515186   104.971404     retinopathy\n",
       "5997  55.562243    98.421446    102.697875   120.875951     retinopathy\n",
       "5998  63.468956   106.809289     88.060631   106.052213     retinopathy\n",
       "5999  62.506825    96.900784     86.878033   108.625436  no_retinopathy\n",
       "\n",
       "[6000 rows x 5 columns]"
      ]
     },
     "execution_count": 207,
     "metadata": {},
     "output_type": "execute_result"
    }
   ],
   "source": [
    "p152"
   ]
  },
  {
   "cell_type": "code",
   "execution_count": 208,
   "metadata": {},
   "outputs": [],
   "source": [
    "p152[\"prognosis\"].replace({\"retinopathy\":1,\"no_retinopathy\":0}, inplace=True)"
   ]
  },
  {
   "cell_type": "code",
   "execution_count": 209,
   "metadata": {},
   "outputs": [
    {
     "data": {
      "text/html": [
       "<div>\n",
       "<style scoped>\n",
       "    .dataframe tbody tr th:only-of-type {\n",
       "        vertical-align: middle;\n",
       "    }\n",
       "\n",
       "    .dataframe tbody tr th {\n",
       "        vertical-align: top;\n",
       "    }\n",
       "\n",
       "    .dataframe thead th {\n",
       "        text-align: right;\n",
       "    }\n",
       "</style>\n",
       "<table border=\"1\" class=\"dataframe\">\n",
       "  <thead>\n",
       "    <tr style=\"text-align: right;\">\n",
       "      <th></th>\n",
       "      <th>age</th>\n",
       "      <th>systolic_bp</th>\n",
       "      <th>diastolic_bp</th>\n",
       "      <th>cholesterol</th>\n",
       "      <th>prognosis</th>\n",
       "    </tr>\n",
       "    <tr>\n",
       "      <th>ID</th>\n",
       "      <th></th>\n",
       "      <th></th>\n",
       "      <th></th>\n",
       "      <th></th>\n",
       "      <th></th>\n",
       "    </tr>\n",
       "  </thead>\n",
       "  <tbody>\n",
       "    <tr>\n",
       "      <th>0</th>\n",
       "      <td>77.196340</td>\n",
       "      <td>85.288742</td>\n",
       "      <td>80.021878</td>\n",
       "      <td>79.957109</td>\n",
       "      <td>1</td>\n",
       "    </tr>\n",
       "    <tr>\n",
       "      <th>1</th>\n",
       "      <td>63.529850</td>\n",
       "      <td>99.379736</td>\n",
       "      <td>84.852361</td>\n",
       "      <td>110.382411</td>\n",
       "      <td>1</td>\n",
       "    </tr>\n",
       "    <tr>\n",
       "      <th>2</th>\n",
       "      <td>69.003986</td>\n",
       "      <td>111.349455</td>\n",
       "      <td>109.850616</td>\n",
       "      <td>100.828246</td>\n",
       "      <td>1</td>\n",
       "    </tr>\n",
       "    <tr>\n",
       "      <th>3</th>\n",
       "      <td>82.638210</td>\n",
       "      <td>95.056128</td>\n",
       "      <td>79.666851</td>\n",
       "      <td>87.066303</td>\n",
       "      <td>1</td>\n",
       "    </tr>\n",
       "    <tr>\n",
       "      <th>4</th>\n",
       "      <td>78.346286</td>\n",
       "      <td>109.154591</td>\n",
       "      <td>90.713220</td>\n",
       "      <td>92.511770</td>\n",
       "      <td>1</td>\n",
       "    </tr>\n",
       "    <tr>\n",
       "      <th>...</th>\n",
       "      <td>...</td>\n",
       "      <td>...</td>\n",
       "      <td>...</td>\n",
       "      <td>...</td>\n",
       "      <td>...</td>\n",
       "    </tr>\n",
       "    <tr>\n",
       "      <th>5995</th>\n",
       "      <td>49.611850</td>\n",
       "      <td>94.857639</td>\n",
       "      <td>86.615671</td>\n",
       "      <td>107.643986</td>\n",
       "      <td>0</td>\n",
       "    </tr>\n",
       "    <tr>\n",
       "      <th>5996</th>\n",
       "      <td>63.099686</td>\n",
       "      <td>100.039527</td>\n",
       "      <td>93.515186</td>\n",
       "      <td>104.971404</td>\n",
       "      <td>1</td>\n",
       "    </tr>\n",
       "    <tr>\n",
       "      <th>5997</th>\n",
       "      <td>55.562243</td>\n",
       "      <td>98.421446</td>\n",
       "      <td>102.697875</td>\n",
       "      <td>120.875951</td>\n",
       "      <td>1</td>\n",
       "    </tr>\n",
       "    <tr>\n",
       "      <th>5998</th>\n",
       "      <td>63.468956</td>\n",
       "      <td>106.809289</td>\n",
       "      <td>88.060631</td>\n",
       "      <td>106.052213</td>\n",
       "      <td>1</td>\n",
       "    </tr>\n",
       "    <tr>\n",
       "      <th>5999</th>\n",
       "      <td>62.506825</td>\n",
       "      <td>96.900784</td>\n",
       "      <td>86.878033</td>\n",
       "      <td>108.625436</td>\n",
       "      <td>0</td>\n",
       "    </tr>\n",
       "  </tbody>\n",
       "</table>\n",
       "<p>6000 rows × 5 columns</p>\n",
       "</div>"
      ],
      "text/plain": [
       "            age  systolic_bp  diastolic_bp  cholesterol  prognosis\n",
       "ID                                                                \n",
       "0     77.196340    85.288742     80.021878    79.957109          1\n",
       "1     63.529850    99.379736     84.852361   110.382411          1\n",
       "2     69.003986   111.349455    109.850616   100.828246          1\n",
       "3     82.638210    95.056128     79.666851    87.066303          1\n",
       "4     78.346286   109.154591     90.713220    92.511770          1\n",
       "...         ...          ...           ...          ...        ...\n",
       "5995  49.611850    94.857639     86.615671   107.643986          0\n",
       "5996  63.099686   100.039527     93.515186   104.971404          1\n",
       "5997  55.562243    98.421446    102.697875   120.875951          1\n",
       "5998  63.468956   106.809289     88.060631   106.052213          1\n",
       "5999  62.506825    96.900784     86.878033   108.625436          0\n",
       "\n",
       "[6000 rows x 5 columns]"
      ]
     },
     "execution_count": 209,
     "metadata": {},
     "output_type": "execute_result"
    }
   ],
   "source": [
    "p152"
   ]
  },
  {
   "cell_type": "code",
   "execution_count": 210,
   "metadata": {},
   "outputs": [],
   "source": [
    "from sklearn.preprocessing import StandardScaler\n",
    "scaler=StandardScaler()"
   ]
  },
  {
   "cell_type": "code",
   "execution_count": 211,
   "metadata": {},
   "outputs": [
    {
     "data": {
      "text/plain": [
       "['age', 'systolic_bp', 'diastolic_bp', 'cholesterol']"
      ]
     },
     "execution_count": 211,
     "metadata": {},
     "output_type": "execute_result"
    }
   ],
   "source": [
    "numeric_column"
   ]
  },
  {
   "cell_type": "code",
   "execution_count": 212,
   "metadata": {},
   "outputs": [],
   "source": [
    "p152[numeric_column]=scaler.fit_transform(p152[numeric_column])"
   ]
  },
  {
   "cell_type": "code",
   "execution_count": 213,
   "metadata": {},
   "outputs": [
    {
     "data": {
      "text/html": [
       "<div>\n",
       "<style scoped>\n",
       "    .dataframe tbody tr th:only-of-type {\n",
       "        vertical-align: middle;\n",
       "    }\n",
       "\n",
       "    .dataframe tbody tr th {\n",
       "        vertical-align: top;\n",
       "    }\n",
       "\n",
       "    .dataframe thead th {\n",
       "        text-align: right;\n",
       "    }\n",
       "</style>\n",
       "<table border=\"1\" class=\"dataframe\">\n",
       "  <thead>\n",
       "    <tr style=\"text-align: right;\">\n",
       "      <th></th>\n",
       "      <th>age</th>\n",
       "      <th>systolic_bp</th>\n",
       "      <th>diastolic_bp</th>\n",
       "      <th>cholesterol</th>\n",
       "      <th>prognosis</th>\n",
       "    </tr>\n",
       "    <tr>\n",
       "      <th>ID</th>\n",
       "      <th></th>\n",
       "      <th></th>\n",
       "      <th></th>\n",
       "      <th></th>\n",
       "      <th></th>\n",
       "    </tr>\n",
       "  </thead>\n",
       "  <tbody>\n",
       "    <tr>\n",
       "      <th>0</th>\n",
       "      <td>1.953859</td>\n",
       "      <td>-1.444088</td>\n",
       "      <td>-1.086684</td>\n",
       "      <td>-1.981315</td>\n",
       "      <td>1</td>\n",
       "    </tr>\n",
       "    <tr>\n",
       "      <th>1</th>\n",
       "      <td>0.357992</td>\n",
       "      <td>-0.123270</td>\n",
       "      <td>-0.585981</td>\n",
       "      <td>0.934929</td>\n",
       "      <td>1</td>\n",
       "    </tr>\n",
       "    <tr>\n",
       "      <th>2</th>\n",
       "      <td>0.997219</td>\n",
       "      <td>0.998712</td>\n",
       "      <td>2.005212</td>\n",
       "      <td>0.019169</td>\n",
       "      <td>1</td>\n",
       "    </tr>\n",
       "    <tr>\n",
       "      <th>3</th>\n",
       "      <td>2.589318</td>\n",
       "      <td>-0.528543</td>\n",
       "      <td>-1.123484</td>\n",
       "      <td>-1.299904</td>\n",
       "      <td>1</td>\n",
       "    </tr>\n",
       "    <tr>\n",
       "      <th>4</th>\n",
       "      <td>2.088141</td>\n",
       "      <td>0.792976</td>\n",
       "      <td>0.021526</td>\n",
       "      <td>-0.777959</td>\n",
       "      <td>1</td>\n",
       "    </tr>\n",
       "    <tr>\n",
       "      <th>...</th>\n",
       "      <td>...</td>\n",
       "      <td>...</td>\n",
       "      <td>...</td>\n",
       "      <td>...</td>\n",
       "      <td>...</td>\n",
       "    </tr>\n",
       "    <tr>\n",
       "      <th>5995</th>\n",
       "      <td>-1.267244</td>\n",
       "      <td>-0.547148</td>\n",
       "      <td>-0.403205</td>\n",
       "      <td>0.672453</td>\n",
       "      <td>0</td>\n",
       "    </tr>\n",
       "    <tr>\n",
       "      <th>5996</th>\n",
       "      <td>0.307761</td>\n",
       "      <td>-0.061424</td>\n",
       "      <td>0.311964</td>\n",
       "      <td>0.416288</td>\n",
       "      <td>1</td>\n",
       "    </tr>\n",
       "    <tr>\n",
       "      <th>5997</th>\n",
       "      <td>-0.572403</td>\n",
       "      <td>-0.213095</td>\n",
       "      <td>1.263795</td>\n",
       "      <td>1.940727</td>\n",
       "      <td>1</td>\n",
       "    </tr>\n",
       "    <tr>\n",
       "      <th>5998</th>\n",
       "      <td>0.350881</td>\n",
       "      <td>0.573139</td>\n",
       "      <td>-0.253428</td>\n",
       "      <td>0.519882</td>\n",
       "      <td>1</td>\n",
       "    </tr>\n",
       "    <tr>\n",
       "      <th>5999</th>\n",
       "      <td>0.238531</td>\n",
       "      <td>-0.355634</td>\n",
       "      <td>-0.376010</td>\n",
       "      <td>0.766524</td>\n",
       "      <td>0</td>\n",
       "    </tr>\n",
       "  </tbody>\n",
       "</table>\n",
       "<p>6000 rows × 5 columns</p>\n",
       "</div>"
      ],
      "text/plain": [
       "           age  systolic_bp  diastolic_bp  cholesterol  prognosis\n",
       "ID                                                               \n",
       "0     1.953859    -1.444088     -1.086684    -1.981315          1\n",
       "1     0.357992    -0.123270     -0.585981     0.934929          1\n",
       "2     0.997219     0.998712      2.005212     0.019169          1\n",
       "3     2.589318    -0.528543     -1.123484    -1.299904          1\n",
       "4     2.088141     0.792976      0.021526    -0.777959          1\n",
       "...        ...          ...           ...          ...        ...\n",
       "5995 -1.267244    -0.547148     -0.403205     0.672453          0\n",
       "5996  0.307761    -0.061424      0.311964     0.416288          1\n",
       "5997 -0.572403    -0.213095      1.263795     1.940727          1\n",
       "5998  0.350881     0.573139     -0.253428     0.519882          1\n",
       "5999  0.238531    -0.355634     -0.376010     0.766524          0\n",
       "\n",
       "[6000 rows x 5 columns]"
      ]
     },
     "execution_count": 213,
     "metadata": {},
     "output_type": "execute_result"
    }
   ],
   "source": [
    "p152"
   ]
  },
  {
   "cell_type": "markdown",
   "metadata": {},
   "source": [
    "## Neural Network"
   ]
  },
  {
   "cell_type": "code",
   "execution_count": 214,
   "metadata": {},
   "outputs": [],
   "source": [
    "from keras import Sequential\n",
    "from keras.layers import Dense"
   ]
  },
  {
   "cell_type": "code",
   "execution_count": 215,
   "metadata": {},
   "outputs": [],
   "source": [
    "classifier = Sequential()\n",
    "#First Hidden Layer\n",
    "classifier.add(Dense(4, activation='tanh', kernel_initializer='random_normal', input_dim=4))\n",
    "#Second  Hidden Layer\n",
    "classifier.add(Dense(6, activation='tanh', kernel_initializer='random_normal'))\n",
    "#Output Layer\n",
    "classifier.add(Dense(1, activation='sigmoid', kernel_initializer='random_normal'))"
   ]
  },
  {
   "cell_type": "code",
   "execution_count": 216,
   "metadata": {},
   "outputs": [],
   "source": [
    "#Compiling the neural network\n",
    "classifier.compile(optimizer ='adam',loss='binary_crossentropy', metrics =['accuracy'])"
   ]
  },
  {
   "cell_type": "code",
   "execution_count": 217,
   "metadata": {},
   "outputs": [],
   "source": [
    "from sklearn.model_selection import train_test_split\n",
    "x=p152.drop(\"prognosis\", axis=1)\n",
    "y=p152[\"prognosis\"]\n",
    "X_train, X_test, y_train, y_test = train_test_split(x, y, test_size=0.15, random_state=42)"
   ]
  },
  {
   "cell_type": "code",
   "execution_count": 218,
   "metadata": {},
   "outputs": [
    {
     "name": "stdout",
     "output_type": "stream",
     "text": [
      "Epoch 1/70\n",
      "102/102 [==============================] - 0s 1ms/step - loss: 0.6820 - accuracy: 0.6678\n",
      "Epoch 2/70\n",
      "102/102 [==============================] - 0s 1ms/step - loss: 0.5951 - accuracy: 0.7314\n",
      "Epoch 3/70\n",
      "102/102 [==============================] - 0s 1ms/step - loss: 0.5329 - accuracy: 0.7424\n",
      "Epoch 4/70\n",
      "102/102 [==============================] - 0s 1ms/step - loss: 0.5217 - accuracy: 0.7451\n",
      "Epoch 5/70\n",
      "102/102 [==============================] - 0s 1ms/step - loss: 0.5204 - accuracy: 0.7443\n",
      "Epoch 6/70\n",
      "102/102 [==============================] - 0s 1ms/step - loss: 0.5201 - accuracy: 0.7427\n",
      "Epoch 7/70\n",
      "102/102 [==============================] - 0s 974us/step - loss: 0.5197 - accuracy: 0.7433\n",
      "Epoch 8/70\n",
      "102/102 [==============================] - 0s 928us/step - loss: 0.5195 - accuracy: 0.7427\n",
      "Epoch 9/70\n",
      "102/102 [==============================] - 0s 1ms/step - loss: 0.5193 - accuracy: 0.7433\n",
      "Epoch 10/70\n",
      "102/102 [==============================] - 0s 959us/step - loss: 0.5192 - accuracy: 0.7429\n",
      "Epoch 11/70\n",
      "102/102 [==============================] - 0s 1ms/step - loss: 0.5190 - accuracy: 0.7433\n",
      "Epoch 12/70\n",
      "102/102 [==============================] - 0s 845us/step - loss: 0.5187 - accuracy: 0.7427\n",
      "Epoch 13/70\n",
      "102/102 [==============================] - 0s 820us/step - loss: 0.5188 - accuracy: 0.7449\n",
      "Epoch 14/70\n",
      "102/102 [==============================] - 0s 894us/step - loss: 0.5186 - accuracy: 0.7425\n",
      "Epoch 15/70\n",
      "102/102 [==============================] - 0s 852us/step - loss: 0.5187 - accuracy: 0.7437\n",
      "Epoch 16/70\n",
      "102/102 [==============================] - 0s 1ms/step - loss: 0.5184 - accuracy: 0.7451\n",
      "Epoch 17/70\n",
      "102/102 [==============================] - 0s 1ms/step - loss: 0.5183 - accuracy: 0.7443\n",
      "Epoch 18/70\n",
      "102/102 [==============================] - 0s 928us/step - loss: 0.5179 - accuracy: 0.7431\n",
      "Epoch 19/70\n",
      "102/102 [==============================] - 0s 1ms/step - loss: 0.5179 - accuracy: 0.7445\n",
      "Epoch 20/70\n",
      "102/102 [==============================] - 0s 1ms/step - loss: 0.5179 - accuracy: 0.7445\n",
      "Epoch 21/70\n",
      "102/102 [==============================] - 0s 1ms/step - loss: 0.5179 - accuracy: 0.7443\n",
      "Epoch 22/70\n",
      "102/102 [==============================] - 0s 948us/step - loss: 0.5175 - accuracy: 0.7427\n",
      "Epoch 23/70\n",
      "102/102 [==============================] - 0s 879us/step - loss: 0.5177 - accuracy: 0.7435\n",
      "Epoch 24/70\n",
      "102/102 [==============================] - 0s 889us/step - loss: 0.5174 - accuracy: 0.7447\n",
      "Epoch 25/70\n",
      "102/102 [==============================] - 0s 858us/step - loss: 0.5174 - accuracy: 0.7445\n",
      "Epoch 26/70\n",
      "102/102 [==============================] - 0s 932us/step - loss: 0.5174 - accuracy: 0.7429\n",
      "Epoch 27/70\n",
      "102/102 [==============================] - 0s 852us/step - loss: 0.5172 - accuracy: 0.7433\n",
      "Epoch 28/70\n",
      "102/102 [==============================] - 0s 832us/step - loss: 0.5173 - accuracy: 0.7447\n",
      "Epoch 29/70\n",
      "102/102 [==============================] - 0s 807us/step - loss: 0.5171 - accuracy: 0.7431\n",
      "Epoch 30/70\n",
      "102/102 [==============================] - 0s 817us/step - loss: 0.5171 - accuracy: 0.7455\n",
      "Epoch 31/70\n",
      "102/102 [==============================] - 0s 846us/step - loss: 0.5170 - accuracy: 0.7412\n",
      "Epoch 32/70\n",
      "102/102 [==============================] - 0s 830us/step - loss: 0.5169 - accuracy: 0.7439\n",
      "Epoch 33/70\n",
      "102/102 [==============================] - 0s 812us/step - loss: 0.5168 - accuracy: 0.7424\n",
      "Epoch 34/70\n",
      "102/102 [==============================] - 0s 937us/step - loss: 0.5168 - accuracy: 0.7431\n",
      "Epoch 35/70\n",
      "102/102 [==============================] - 0s 851us/step - loss: 0.5169 - accuracy: 0.7425\n",
      "Epoch 36/70\n",
      "102/102 [==============================] - 0s 875us/step - loss: 0.5167 - accuracy: 0.7433\n",
      "Epoch 37/70\n",
      "102/102 [==============================] - 0s 1ms/step - loss: 0.5167 - accuracy: 0.7425\n",
      "Epoch 38/70\n",
      "102/102 [==============================] - 0s 867us/step - loss: 0.5167 - accuracy: 0.7433\n",
      "Epoch 39/70\n",
      "102/102 [==============================] - 0s 1ms/step - loss: 0.5166 - accuracy: 0.7425\n",
      "Epoch 40/70\n",
      "102/102 [==============================] - 0s 1ms/step - loss: 0.5165 - accuracy: 0.7445\n",
      "Epoch 41/70\n",
      "102/102 [==============================] - 0s 820us/step - loss: 0.5164 - accuracy: 0.7433\n",
      "Epoch 42/70\n",
      "102/102 [==============================] - 0s 875us/step - loss: 0.5168 - accuracy: 0.7447\n",
      "Epoch 43/70\n",
      "102/102 [==============================] - 0s 856us/step - loss: 0.5164 - accuracy: 0.7447\n",
      "Epoch 44/70\n",
      "102/102 [==============================] - 0s 839us/step - loss: 0.5164 - accuracy: 0.7439\n",
      "Epoch 45/70\n",
      "102/102 [==============================] - 0s 852us/step - loss: 0.5164 - accuracy: 0.7441\n",
      "Epoch 46/70\n",
      "102/102 [==============================] - 0s 875us/step - loss: 0.5165 - accuracy: 0.7439\n",
      "Epoch 47/70\n",
      "102/102 [==============================] - 0s 912us/step - loss: 0.5162 - accuracy: 0.7453\n",
      "Epoch 48/70\n",
      "102/102 [==============================] - 0s 884us/step - loss: 0.5165 - accuracy: 0.7443\n",
      "Epoch 49/70\n",
      "102/102 [==============================] - 0s 997us/step - loss: 0.5162 - accuracy: 0.7433\n",
      "Epoch 50/70\n",
      "102/102 [==============================] - 0s 916us/step - loss: 0.5160 - accuracy: 0.7433\n",
      "Epoch 51/70\n",
      "102/102 [==============================] - 0s 879us/step - loss: 0.5163 - accuracy: 0.7439\n",
      "Epoch 52/70\n",
      "102/102 [==============================] - 0s 859us/step - loss: 0.5160 - accuracy: 0.7437\n",
      "Epoch 53/70\n",
      "102/102 [==============================] - 0s 867us/step - loss: 0.5162 - accuracy: 0.7445\n",
      "Epoch 54/70\n",
      "102/102 [==============================] - 0s 857us/step - loss: 0.5161 - accuracy: 0.7439\n",
      "Epoch 55/70\n",
      "102/102 [==============================] - 0s 874us/step - loss: 0.5161 - accuracy: 0.7425\n",
      "Epoch 56/70\n",
      "102/102 [==============================] - 0s 857us/step - loss: 0.5161 - accuracy: 0.7427\n",
      "Epoch 57/70\n",
      "102/102 [==============================] - 0s 895us/step - loss: 0.5161 - accuracy: 0.7433\n",
      "Epoch 58/70\n",
      "102/102 [==============================] - 0s 873us/step - loss: 0.5158 - accuracy: 0.7439\n",
      "Epoch 59/70\n",
      "102/102 [==============================] - 0s 886us/step - loss: 0.5161 - accuracy: 0.7453\n",
      "Epoch 60/70\n",
      "102/102 [==============================] - 0s 879us/step - loss: 0.5158 - accuracy: 0.7425\n",
      "Epoch 61/70\n",
      "102/102 [==============================] - 0s 891us/step - loss: 0.5158 - accuracy: 0.7457\n",
      "Epoch 62/70\n",
      "102/102 [==============================] - 0s 876us/step - loss: 0.5159 - accuracy: 0.7435\n",
      "Epoch 63/70\n",
      "102/102 [==============================] - 0s 906us/step - loss: 0.5156 - accuracy: 0.7441\n",
      "Epoch 64/70\n",
      "102/102 [==============================] - 0s 869us/step - loss: 0.5157 - accuracy: 0.7437\n",
      "Epoch 65/70\n",
      "102/102 [==============================] - 0s 894us/step - loss: 0.5155 - accuracy: 0.7445\n",
      "Epoch 66/70\n",
      "102/102 [==============================] - 0s 895us/step - loss: 0.5157 - accuracy: 0.7451\n",
      "Epoch 67/70\n",
      "102/102 [==============================] - 0s 898us/step - loss: 0.5156 - accuracy: 0.7431\n",
      "Epoch 68/70\n",
      "102/102 [==============================] - 0s 868us/step - loss: 0.5155 - accuracy: 0.7435\n",
      "Epoch 69/70\n",
      "102/102 [==============================] - 0s 894us/step - loss: 0.5155 - accuracy: 0.7461\n",
      "Epoch 70/70\n",
      "102/102 [==============================] - 0s 867us/step - loss: 0.5156 - accuracy: 0.7433\n"
     ]
    },
    {
     "data": {
      "text/plain": [
       "<keras.callbacks.History at 0x225a6b7f5b0>"
      ]
     },
     "execution_count": 218,
     "metadata": {},
     "output_type": "execute_result"
    }
   ],
   "source": [
    "#Fitting the data to the training dataset\n",
    "classifier.fit(X_train,y_train, batch_size=50, epochs=70)"
   ]
  },
  {
   "cell_type": "code",
   "execution_count": 219,
   "metadata": {},
   "outputs": [
    {
     "name": "stdout",
     "output_type": "stream",
     "text": [
      "29/29 [==============================] - 0s 851us/step - loss: 0.5123 - accuracy: 0.7500\n"
     ]
    },
    {
     "data": {
      "text/plain": [
       "[0.5123162865638733, 0.75]"
      ]
     },
     "execution_count": 219,
     "metadata": {},
     "output_type": "execute_result"
    }
   ],
   "source": [
    "classifier.evaluate(X_test, y_test)"
   ]
  },
  {
   "cell_type": "code",
   "execution_count": 220,
   "metadata": {},
   "outputs": [
    {
     "name": "stdout",
     "output_type": "stream",
     "text": [
      "29/29 [==============================] - 0s 609us/step\n"
     ]
    }
   ],
   "source": [
    "y_pred=classifier.predict(X_test)\n",
    "y_pred =(y_pred>0.5)"
   ]
  },
  {
   "cell_type": "code",
   "execution_count": 221,
   "metadata": {},
   "outputs": [
    {
     "name": "stdout",
     "output_type": "stream",
     "text": [
      "[[323 114]\n",
      " [111 352]]\n"
     ]
    }
   ],
   "source": [
    "from sklearn.metrics import confusion_matrix\n",
    "cm = confusion_matrix(y_test, y_pred)\n",
    "print(cm)"
   ]
  },
  {
   "cell_type": "markdown",
   "metadata": {},
   "source": [
    "### Neural Network Gridsearch"
   ]
  },
  {
   "cell_type": "code",
   "execution_count": 222,
   "metadata": {},
   "outputs": [],
   "source": [
    "from scikeras.wrappers import KerasClassifier\n",
    "from sklearn.model_selection import GridSearchCV"
   ]
  },
  {
   "cell_type": "code",
   "execution_count": 223,
   "metadata": {},
   "outputs": [],
   "source": [
    "def create_model():\n",
    "\t# create model\n",
    "\tmodel = Sequential()\n",
    "\tmodel.add(Dense(4, activation='relu', kernel_initializer='random_normal', input_dim=4))\n",
    "#Second  Hidden Layer\n",
    "\tmodel.add(Dense(4, activation='relu', kernel_initializer='random_normal'))\n",
    "#Output Layer\n",
    "\tmodel.add(Dense(1, activation='sigmoid', kernel_initializer='random_normal'))\n",
    "\t# Compile model\n",
    "\tmodel.compile(loss='binary_crossentropy', optimizer='adam', metrics=['accuracy'])\n",
    "\treturn model"
   ]
  },
  {
   "cell_type": "code",
   "execution_count": 224,
   "metadata": {},
   "outputs": [],
   "source": [
    "# Grid Search Parameter\n",
    "batch_size = [10, 35,50,80, 70]\n",
    "epochs = [10, 30, 70,60,80]\n",
    "param_grid = dict(batch_size=batch_size, epochs=epochs)"
   ]
  },
  {
   "cell_type": "code",
   "execution_count": 225,
   "metadata": {},
   "outputs": [],
   "source": [
    "model = Sequential()\n",
    "model.add(Dense(4, activation='relu', kernel_initializer='random_normal', input_dim=4))\n",
    "#Second  Hidden Layer\n",
    "model.add(Dense(4, activation='relu', kernel_initializer='random_normal'))\n",
    "#Output Layer\n",
    "model.add(Dense(1, activation='sigmoid', kernel_initializer='random_normal'))\n",
    "\t# Compile model\n",
    "model.compile(loss='binary_crossentropy', optimizer='adam', metrics=['accuracy'])"
   ]
  },
  {
   "cell_type": "code",
   "execution_count": 226,
   "metadata": {},
   "outputs": [],
   "source": [
    "model = KerasClassifier(model=model)"
   ]
  },
  {
   "cell_type": "code",
   "execution_count": 227,
   "metadata": {},
   "outputs": [
    {
     "name": "stdout",
     "output_type": "stream",
     "text": [
      "INFO:tensorflow:Assets written to: C:\\Users\\acer\\AppData\\Local\\Temp\\tmpysf1jrtk\\assets\n",
      "INFO:tensorflow:Assets written to: C:\\Users\\acer\\AppData\\Local\\Temp\\tmptjpixfh3\\assets\n",
      "INFO:tensorflow:Assets written to: C:\\Users\\acer\\AppData\\Local\\Temp\\tmpnnu4jg3m\\assets\n",
      "INFO:tensorflow:Assets written to: C:\\Users\\acer\\AppData\\Local\\Temp\\tmpliovkfgh\\assets\n",
      "INFO:tensorflow:Assets written to: C:\\Users\\acer\\AppData\\Local\\Temp\\tmpuf1gc2_o\\assets\n",
      "INFO:tensorflow:Assets written to: C:\\Users\\acer\\AppData\\Local\\Temp\\tmp85d1gx20\\assets\n",
      "INFO:tensorflow:Assets written to: C:\\Users\\acer\\AppData\\Local\\Temp\\tmpro6x0k_e\\assets\n",
      "INFO:tensorflow:Assets written to: C:\\Users\\acer\\AppData\\Local\\Temp\\tmprtvgs_df\\assets\n",
      "INFO:tensorflow:Assets written to: C:\\Users\\acer\\AppData\\Local\\Temp\\tmpjxcjhdcq\\assets\n",
      "INFO:tensorflow:Assets written to: C:\\Users\\acer\\AppData\\Local\\Temp\\tmppivz7uja\\assets\n",
      "INFO:tensorflow:Assets written to: C:\\Users\\acer\\AppData\\Local\\Temp\\tmpfa860ofn\\assets\n",
      "INFO:tensorflow:Assets written to: C:\\Users\\acer\\AppData\\Local\\Temp\\tmp4j3s26ps\\assets\n",
      "INFO:tensorflow:Assets written to: C:\\Users\\acer\\AppData\\Local\\Temp\\tmp2xhtbbqa\\assets\n",
      "INFO:tensorflow:Assets written to: C:\\Users\\acer\\AppData\\Local\\Temp\\tmpr8zbqp3u\\assets\n",
      "INFO:tensorflow:Assets written to: C:\\Users\\acer\\AppData\\Local\\Temp\\tmp0bke9zli\\assets\n",
      "INFO:tensorflow:Assets written to: C:\\Users\\acer\\AppData\\Local\\Temp\\tmpqlan7neq\\assets\n",
      "INFO:tensorflow:Assets written to: C:\\Users\\acer\\AppData\\Local\\Temp\\tmpkti56z9j\\assets\n",
      "INFO:tensorflow:Assets written to: C:\\Users\\acer\\AppData\\Local\\Temp\\tmp3f74cbs8\\assets\n",
      "INFO:tensorflow:Assets written to: C:\\Users\\acer\\AppData\\Local\\Temp\\tmper0099x1\\assets\n",
      "INFO:tensorflow:Assets written to: C:\\Users\\acer\\AppData\\Local\\Temp\\tmpsjy6nakf\\assets\n",
      "INFO:tensorflow:Assets written to: C:\\Users\\acer\\AppData\\Local\\Temp\\tmp50uc20x8\\assets\n",
      "INFO:tensorflow:Assets written to: C:\\Users\\acer\\AppData\\Local\\Temp\\tmp1ucdkkhz\\assets\n",
      "INFO:tensorflow:Assets written to: C:\\Users\\acer\\AppData\\Local\\Temp\\tmppv3chhs5\\assets\n",
      "INFO:tensorflow:Assets written to: C:\\Users\\acer\\AppData\\Local\\Temp\\tmpig6nubbk\\assets\n",
      "INFO:tensorflow:Assets written to: C:\\Users\\acer\\AppData\\Local\\Temp\\tmptzc1g1ug\\assets\n",
      "INFO:tensorflow:Assets written to: C:\\Users\\acer\\AppData\\Local\\Temp\\tmp4gc6_k6l\\assets\n",
      "INFO:tensorflow:Assets written to: C:\\Users\\acer\\AppData\\Local\\Temp\\tmp_nnk1d4q\\assets\n",
      "INFO:tensorflow:Assets written to: C:\\Users\\acer\\AppData\\Local\\Temp\\tmp7sw45gap\\assets\n",
      "INFO:tensorflow:Assets written to: C:\\Users\\acer\\AppData\\Local\\Temp\\tmprhzch7fy\\assets\n",
      "INFO:tensorflow:Assets written to: C:\\Users\\acer\\AppData\\Local\\Temp\\tmpuoa7_kqt\\assets\n",
      "INFO:tensorflow:Assets written to: C:\\Users\\acer\\AppData\\Local\\Temp\\tmp9jnbs9to\\assets\n",
      "INFO:tensorflow:Assets written to: C:\\Users\\acer\\AppData\\Local\\Temp\\tmp7mt4pbmc\\assets\n",
      "INFO:tensorflow:Assets written to: C:\\Users\\acer\\AppData\\Local\\Temp\\tmp4pvrpclv\\assets\n",
      "INFO:tensorflow:Assets written to: C:\\Users\\acer\\AppData\\Local\\Temp\\tmpo2wh2q16\\assets\n",
      "INFO:tensorflow:Assets written to: C:\\Users\\acer\\AppData\\Local\\Temp\\tmpyzau50zg\\assets\n",
      "INFO:tensorflow:Assets written to: C:\\Users\\acer\\AppData\\Local\\Temp\\tmpg8q8nti6\\assets\n",
      "INFO:tensorflow:Assets written to: C:\\Users\\acer\\AppData\\Local\\Temp\\tmpkr2f9bq3\\assets\n",
      "INFO:tensorflow:Assets written to: C:\\Users\\acer\\AppData\\Local\\Temp\\tmppgmenrep\\assets\n",
      "INFO:tensorflow:Assets written to: C:\\Users\\acer\\AppData\\Local\\Temp\\tmp5n0lh91_\\assets\n",
      "INFO:tensorflow:Assets written to: C:\\Users\\acer\\AppData\\Local\\Temp\\tmp9fvofqp7\\assets\n",
      "INFO:tensorflow:Assets written to: C:\\Users\\acer\\AppData\\Local\\Temp\\tmpt_gt1dp6\\assets\n",
      "INFO:tensorflow:Assets written to: C:\\Users\\acer\\AppData\\Local\\Temp\\tmp30wes3kz\\assets\n",
      "INFO:tensorflow:Assets written to: C:\\Users\\acer\\AppData\\Local\\Temp\\tmpp6czw9rx\\assets\n",
      "INFO:tensorflow:Assets written to: C:\\Users\\acer\\AppData\\Local\\Temp\\tmpmlrsaz2b\\assets\n",
      "INFO:tensorflow:Assets written to: C:\\Users\\acer\\AppData\\Local\\Temp\\tmpv3qafxle\\assets\n",
      "INFO:tensorflow:Assets written to: C:\\Users\\acer\\AppData\\Local\\Temp\\tmpwk81fb5x\\assets\n",
      "INFO:tensorflow:Assets written to: C:\\Users\\acer\\AppData\\Local\\Temp\\tmp9r4lw9gd\\assets\n",
      "INFO:tensorflow:Assets written to: C:\\Users\\acer\\AppData\\Local\\Temp\\tmp8pp9k__r\\assets\n",
      "INFO:tensorflow:Assets written to: C:\\Users\\acer\\AppData\\Local\\Temp\\tmphf7r44l1\\assets\n",
      "INFO:tensorflow:Assets written to: C:\\Users\\acer\\AppData\\Local\\Temp\\tmp0047epm7\\assets\n",
      "INFO:tensorflow:Assets written to: C:\\Users\\acer\\AppData\\Local\\Temp\\tmp29xqtq59\\assets\n",
      "INFO:tensorflow:Assets written to: C:\\Users\\acer\\AppData\\Local\\Temp\\tmp3rcj9x3e\\assets\n",
      "INFO:tensorflow:Assets written to: C:\\Users\\acer\\AppData\\Local\\Temp\\tmpibejwxuj\\assets\n",
      "INFO:tensorflow:Assets written to: C:\\Users\\acer\\AppData\\Local\\Temp\\tmp11whcib7\\assets\n",
      "INFO:tensorflow:Assets written to: C:\\Users\\acer\\AppData\\Local\\Temp\\tmpleqb5r7_\\assets\n",
      "INFO:tensorflow:Assets written to: C:\\Users\\acer\\AppData\\Local\\Temp\\tmp7bet7faz\\assets\n",
      "INFO:tensorflow:Assets written to: C:\\Users\\acer\\AppData\\Local\\Temp\\tmp5zn8ecm9\\assets\n",
      "INFO:tensorflow:Assets written to: C:\\Users\\acer\\AppData\\Local\\Temp\\tmpa_unqf_h\\assets\n",
      "INFO:tensorflow:Assets written to: C:\\Users\\acer\\AppData\\Local\\Temp\\tmp3h6ma4z9\\assets\n",
      "INFO:tensorflow:Assets written to: C:\\Users\\acer\\AppData\\Local\\Temp\\tmpzuhj_nl6\\assets\n",
      "INFO:tensorflow:Assets written to: C:\\Users\\acer\\AppData\\Local\\Temp\\tmpmw4n5_i5\\assets\n",
      "INFO:tensorflow:Assets written to: C:\\Users\\acer\\AppData\\Local\\Temp\\tmppxsnvoyt\\assets\n",
      "INFO:tensorflow:Assets written to: C:\\Users\\acer\\AppData\\Local\\Temp\\tmp09gnt5y5\\assets\n",
      "INFO:tensorflow:Assets written to: C:\\Users\\acer\\AppData\\Local\\Temp\\tmps78o331u\\assets\n",
      "INFO:tensorflow:Assets written to: C:\\Users\\acer\\AppData\\Local\\Temp\\tmpth8p1x6e\\assets\n",
      "INFO:tensorflow:Assets written to: C:\\Users\\acer\\AppData\\Local\\Temp\\tmpux7mrd13\\assets\n",
      "INFO:tensorflow:Assets written to: C:\\Users\\acer\\AppData\\Local\\Temp\\tmpg6s_2b4r\\assets\n",
      "INFO:tensorflow:Assets written to: C:\\Users\\acer\\AppData\\Local\\Temp\\tmpneaaegmn\\assets\n",
      "INFO:tensorflow:Assets written to: C:\\Users\\acer\\AppData\\Local\\Temp\\tmp9i6ohbi0\\assets\n",
      "INFO:tensorflow:Assets written to: C:\\Users\\acer\\AppData\\Local\\Temp\\tmponuw_474\\assets\n",
      "INFO:tensorflow:Assets written to: C:\\Users\\acer\\AppData\\Local\\Temp\\tmpymo9i5pu\\assets\n",
      "INFO:tensorflow:Assets written to: C:\\Users\\acer\\AppData\\Local\\Temp\\tmpi8fhm7el\\assets\n",
      "INFO:tensorflow:Assets written to: C:\\Users\\acer\\AppData\\Local\\Temp\\tmpbjy2iioc\\assets\n",
      "INFO:tensorflow:Assets written to: C:\\Users\\acer\\AppData\\Local\\Temp\\tmpy0knljq_\\assets\n",
      "INFO:tensorflow:Assets written to: C:\\Users\\acer\\AppData\\Local\\Temp\\tmp51sas2ic\\assets\n",
      "INFO:tensorflow:Assets written to: C:\\Users\\acer\\AppData\\Local\\Temp\\tmpa63mb7e3\\assets\n",
      "INFO:tensorflow:Assets written to: C:\\Users\\acer\\AppData\\Local\\Temp\\tmpdsq62hke\\assets\n",
      "INFO:tensorflow:Assets written to: C:\\Users\\acer\\AppData\\Local\\Temp\\tmpjnn93ev0\\assets\n",
      "INFO:tensorflow:Assets written to: C:\\Users\\acer\\AppData\\Local\\Temp\\tmpfod29g7x\\assets\n",
      "INFO:tensorflow:Assets written to: C:\\Users\\acer\\AppData\\Local\\Temp\\tmpif2ebmc4\\assets\n",
      "INFO:tensorflow:Assets written to: C:\\Users\\acer\\AppData\\Local\\Temp\\tmpch0yt7dg\\assets\n",
      "INFO:tensorflow:Assets written to: C:\\Users\\acer\\AppData\\Local\\Temp\\tmp9v_99t3e\\assets\n",
      "INFO:tensorflow:Assets written to: C:\\Users\\acer\\AppData\\Local\\Temp\\tmpu1qgbst6\\assets\n",
      "INFO:tensorflow:Assets written to: C:\\Users\\acer\\AppData\\Local\\Temp\\tmpr6i4cjpp\\assets\n",
      "INFO:tensorflow:Assets written to: C:\\Users\\acer\\AppData\\Local\\Temp\\tmp44i03pq3\\assets\n",
      "INFO:tensorflow:Assets written to: C:\\Users\\acer\\AppData\\Local\\Temp\\tmpvw4s5822\\assets\n",
      "INFO:tensorflow:Assets written to: C:\\Users\\acer\\AppData\\Local\\Temp\\tmpe6w9_lk5\\assets\n",
      "INFO:tensorflow:Assets written to: C:\\Users\\acer\\AppData\\Local\\Temp\\tmpxq3plh_m\\assets\n",
      "INFO:tensorflow:Assets written to: C:\\Users\\acer\\AppData\\Local\\Temp\\tmpoai6xuhd\\assets\n",
      "INFO:tensorflow:Assets written to: C:\\Users\\acer\\AppData\\Local\\Temp\\tmpuedrpv0k\\assets\n",
      "INFO:tensorflow:Assets written to: C:\\Users\\acer\\AppData\\Local\\Temp\\tmphwjjv8t5\\assets\n",
      "INFO:tensorflow:Assets written to: C:\\Users\\acer\\AppData\\Local\\Temp\\tmpvysd3nzq\\assets\n",
      "INFO:tensorflow:Assets written to: C:\\Users\\acer\\AppData\\Local\\Temp\\tmpfk1zmwtx\\assets\n",
      "INFO:tensorflow:Assets written to: C:\\Users\\acer\\AppData\\Local\\Temp\\tmpp851dylv\\assets\n",
      "INFO:tensorflow:Assets written to: C:\\Users\\acer\\AppData\\Local\\Temp\\tmpc7onzqbm\\assets\n",
      "INFO:tensorflow:Assets written to: C:\\Users\\acer\\AppData\\Local\\Temp\\tmphvjqm9ej\\assets\n",
      "INFO:tensorflow:Assets written to: C:\\Users\\acer\\AppData\\Local\\Temp\\tmp77z486sd\\assets\n",
      "INFO:tensorflow:Assets written to: C:\\Users\\acer\\AppData\\Local\\Temp\\tmpz30pb18h\\assets\n",
      "INFO:tensorflow:Assets written to: C:\\Users\\acer\\AppData\\Local\\Temp\\tmplicks81l\\assets\n",
      "INFO:tensorflow:Assets written to: C:\\Users\\acer\\AppData\\Local\\Temp\\tmp948dnmtl\\assets\n",
      "INFO:tensorflow:Assets written to: C:\\Users\\acer\\AppData\\Local\\Temp\\tmpc1sed52f\\assets\n",
      "INFO:tensorflow:Assets written to: C:\\Users\\acer\\AppData\\Local\\Temp\\tmpkrptmqnl\\assets\n",
      "INFO:tensorflow:Assets written to: C:\\Users\\acer\\AppData\\Local\\Temp\\tmpqbgfdjtb\\assets\n",
      "INFO:tensorflow:Assets written to: C:\\Users\\acer\\AppData\\Local\\Temp\\tmppx7wqre8\\assets\n",
      "INFO:tensorflow:Assets written to: C:\\Users\\acer\\AppData\\Local\\Temp\\tmpwn7nf0k3\\assets\n",
      "INFO:tensorflow:Assets written to: C:\\Users\\acer\\AppData\\Local\\Temp\\tmprbys_h_h\\assets\n",
      "INFO:tensorflow:Assets written to: C:\\Users\\acer\\AppData\\Local\\Temp\\tmpwgwhnq7h\\assets\n",
      "INFO:tensorflow:Assets written to: C:\\Users\\acer\\AppData\\Local\\Temp\\tmpdtlhgt55\\assets\n",
      "INFO:tensorflow:Assets written to: C:\\Users\\acer\\AppData\\Local\\Temp\\tmpd4dlpqra\\assets\n",
      "INFO:tensorflow:Assets written to: C:\\Users\\acer\\AppData\\Local\\Temp\\tmptz5t6mru\\assets\n",
      "INFO:tensorflow:Assets written to: C:\\Users\\acer\\AppData\\Local\\Temp\\tmpgk477ckw\\assets\n",
      "INFO:tensorflow:Assets written to: C:\\Users\\acer\\AppData\\Local\\Temp\\tmp_q1kmpq6\\assets\n",
      "INFO:tensorflow:Assets written to: C:\\Users\\acer\\AppData\\Local\\Temp\\tmpa07kg6by\\assets\n",
      "INFO:tensorflow:Assets written to: C:\\Users\\acer\\AppData\\Local\\Temp\\tmpv540e295\\assets\n",
      "INFO:tensorflow:Assets written to: C:\\Users\\acer\\AppData\\Local\\Temp\\tmpv0koagyh\\assets\n",
      "INFO:tensorflow:Assets written to: C:\\Users\\acer\\AppData\\Local\\Temp\\tmpr3uo4pd9\\assets\n",
      "INFO:tensorflow:Assets written to: C:\\Users\\acer\\AppData\\Local\\Temp\\tmpdoxds0xe\\assets\n",
      "INFO:tensorflow:Assets written to: C:\\Users\\acer\\AppData\\Local\\Temp\\tmphi1ccs6i\\assets\n",
      "INFO:tensorflow:Assets written to: C:\\Users\\acer\\AppData\\Local\\Temp\\tmpq_vnl_65\\assets\n",
      "INFO:tensorflow:Assets written to: C:\\Users\\acer\\AppData\\Local\\Temp\\tmp9f7t1ub7\\assets\n",
      "INFO:tensorflow:Assets written to: C:\\Users\\acer\\AppData\\Local\\Temp\\tmplvfhm8xi\\assets\n",
      "INFO:tensorflow:Assets written to: C:\\Users\\acer\\AppData\\Local\\Temp\\tmpgd4d6spr\\assets\n",
      "INFO:tensorflow:Assets written to: C:\\Users\\acer\\AppData\\Local\\Temp\\tmpcyxlmv4c\\assets\n",
      "INFO:tensorflow:Assets written to: C:\\Users\\acer\\AppData\\Local\\Temp\\tmpt9ai3jm6\\assets\n",
      "INFO:tensorflow:Assets written to: C:\\Users\\acer\\AppData\\Local\\Temp\\tmp3_vvn6ig\\assets\n",
      "INFO:tensorflow:Assets written to: C:\\Users\\acer\\AppData\\Local\\Temp\\tmpdbyuiejb\\assets\n",
      "INFO:tensorflow:Assets written to: C:\\Users\\acer\\AppData\\Local\\Temp\\tmpsnxb0jf5\\assets\n",
      "INFO:tensorflow:Assets written to: C:\\Users\\acer\\AppData\\Local\\Temp\\tmpxb27jpfq\\assets\n",
      "INFO:tensorflow:Assets written to: C:\\Users\\acer\\AppData\\Local\\Temp\\tmp4vd9mzhi\\assets\n",
      "INFO:tensorflow:Assets written to: C:\\Users\\acer\\AppData\\Local\\Temp\\tmp7lxh_ttg\\assets\n",
      "INFO:tensorflow:Assets written to: C:\\Users\\acer\\AppData\\Local\\Temp\\tmpsfcwr0hr\\assets\n",
      "INFO:tensorflow:Assets written to: C:\\Users\\acer\\AppData\\Local\\Temp\\tmpo_0j4d64\\assets\n",
      "INFO:tensorflow:Assets written to: C:\\Users\\acer\\AppData\\Local\\Temp\\tmp0_fg1m2f\\assets\n",
      "INFO:tensorflow:Assets written to: C:\\Users\\acer\\AppData\\Local\\Temp\\tmptmey2p3b\\assets\n",
      "INFO:tensorflow:Assets written to: C:\\Users\\acer\\AppData\\Local\\Temp\\tmp8lo3kq8c\\assets\n",
      "INFO:tensorflow:Assets written to: C:\\Users\\acer\\AppData\\Local\\Temp\\tmpla6egwax\\assets\n",
      "INFO:tensorflow:Assets written to: C:\\Users\\acer\\AppData\\Local\\Temp\\tmpjc4h7faj\\assets\n",
      "INFO:tensorflow:Assets written to: C:\\Users\\acer\\AppData\\Local\\Temp\\tmp3g829i2f\\assets\n",
      "INFO:tensorflow:Assets written to: C:\\Users\\acer\\AppData\\Local\\Temp\\tmp4kgiwl_8\\assets\n",
      "INFO:tensorflow:Assets written to: C:\\Users\\acer\\AppData\\Local\\Temp\\tmpua9waqgj\\assets\n",
      "INFO:tensorflow:Assets written to: C:\\Users\\acer\\AppData\\Local\\Temp\\tmp6jbd0l2i\\assets\n",
      "INFO:tensorflow:Assets written to: C:\\Users\\acer\\AppData\\Local\\Temp\\tmp58ghyss1\\assets\n",
      "INFO:tensorflow:Assets written to: C:\\Users\\acer\\AppData\\Local\\Temp\\tmpgjhsl6nj\\assets\n",
      "INFO:tensorflow:Assets written to: C:\\Users\\acer\\AppData\\Local\\Temp\\tmps8dwpzo5\\assets\n",
      "INFO:tensorflow:Assets written to: C:\\Users\\acer\\AppData\\Local\\Temp\\tmpmf741g2g\\assets\n",
      "INFO:tensorflow:Assets written to: C:\\Users\\acer\\AppData\\Local\\Temp\\tmp5bgjc6jv\\assets\n",
      "INFO:tensorflow:Assets written to: C:\\Users\\acer\\AppData\\Local\\Temp\\tmpd1trfxoo\\assets\n",
      "INFO:tensorflow:Assets written to: C:\\Users\\acer\\AppData\\Local\\Temp\\tmpcq9bg6e6\\assets\n",
      "INFO:tensorflow:Assets written to: C:\\Users\\acer\\AppData\\Local\\Temp\\tmpzjn_wx3x\\assets\n",
      "INFO:tensorflow:Assets written to: C:\\Users\\acer\\AppData\\Local\\Temp\\tmpsz8_a3ac\\assets\n",
      "INFO:tensorflow:Assets written to: C:\\Users\\acer\\AppData\\Local\\Temp\\tmpbgxzi4c5\\assets\n",
      "INFO:tensorflow:Assets written to: C:\\Users\\acer\\AppData\\Local\\Temp\\tmpga9f2ybd\\assets\n",
      "INFO:tensorflow:Assets written to: C:\\Users\\acer\\AppData\\Local\\Temp\\tmp0f64vw7o\\assets\n",
      "Epoch 1/70\n",
      "510/510 [==============================] - 1s 931us/step - loss: 0.6349 - accuracy: 0.6920\n",
      "Epoch 2/70\n",
      "510/510 [==============================] - 0s 902us/step - loss: 0.5266 - accuracy: 0.7431\n",
      "Epoch 3/70\n",
      "510/510 [==============================] - 0s 913us/step - loss: 0.5179 - accuracy: 0.7467\n",
      "Epoch 4/70\n",
      "510/510 [==============================] - 0s 882us/step - loss: 0.5150 - accuracy: 0.7463\n",
      "Epoch 5/70\n",
      "510/510 [==============================] - 0s 875us/step - loss: 0.5133 - accuracy: 0.7475\n",
      "Epoch 6/70\n",
      "510/510 [==============================] - 0s 883us/step - loss: 0.5120 - accuracy: 0.7476\n",
      "Epoch 7/70\n",
      "510/510 [==============================] - 0s 940us/step - loss: 0.5109 - accuracy: 0.7478\n",
      "Epoch 8/70\n",
      "510/510 [==============================] - 0s 922us/step - loss: 0.5105 - accuracy: 0.7471\n",
      "Epoch 9/70\n",
      "510/510 [==============================] - 0s 893us/step - loss: 0.5097 - accuracy: 0.7476\n",
      "Epoch 10/70\n",
      "510/510 [==============================] - 0s 917us/step - loss: 0.5096 - accuracy: 0.7480\n",
      "Epoch 11/70\n",
      "510/510 [==============================] - 0s 881us/step - loss: 0.5090 - accuracy: 0.7480\n",
      "Epoch 12/70\n",
      "510/510 [==============================] - 0s 887us/step - loss: 0.5087 - accuracy: 0.7486\n",
      "Epoch 13/70\n",
      "510/510 [==============================] - 0s 925us/step - loss: 0.5082 - accuracy: 0.7480\n",
      "Epoch 14/70\n",
      "510/510 [==============================] - 1s 1ms/step - loss: 0.5083 - accuracy: 0.7478\n",
      "Epoch 15/70\n",
      "510/510 [==============================] - 1s 1ms/step - loss: 0.5081 - accuracy: 0.7473\n",
      "Epoch 16/70\n",
      "510/510 [==============================] - 1s 1ms/step - loss: 0.5079 - accuracy: 0.7451\n",
      "Epoch 17/70\n",
      "510/510 [==============================] - 1s 1ms/step - loss: 0.5079 - accuracy: 0.7482\n",
      "Epoch 18/70\n",
      "510/510 [==============================] - 1s 1ms/step - loss: 0.5076 - accuracy: 0.7471\n",
      "Epoch 19/70\n",
      "510/510 [==============================] - 1s 1ms/step - loss: 0.5074 - accuracy: 0.7476\n",
      "Epoch 20/70\n",
      "510/510 [==============================] - 0s 923us/step - loss: 0.5074 - accuracy: 0.7486\n",
      "Epoch 21/70\n",
      "510/510 [==============================] - 0s 922us/step - loss: 0.5073 - accuracy: 0.7482\n",
      "Epoch 22/70\n",
      "510/510 [==============================] - 0s 881us/step - loss: 0.5073 - accuracy: 0.7475\n",
      "Epoch 23/70\n",
      "510/510 [==============================] - 0s 884us/step - loss: 0.5072 - accuracy: 0.7482\n",
      "Epoch 24/70\n",
      "510/510 [==============================] - 0s 868us/step - loss: 0.5070 - accuracy: 0.7502\n",
      "Epoch 25/70\n",
      "510/510 [==============================] - 0s 965us/step - loss: 0.5069 - accuracy: 0.7476\n",
      "Epoch 26/70\n",
      "510/510 [==============================] - 0s 862us/step - loss: 0.5068 - accuracy: 0.7471\n",
      "Epoch 27/70\n",
      "510/510 [==============================] - 0s 875us/step - loss: 0.5068 - accuracy: 0.7469\n",
      "Epoch 28/70\n",
      "510/510 [==============================] - 0s 910us/step - loss: 0.5068 - accuracy: 0.7504\n",
      "Epoch 29/70\n",
      "510/510 [==============================] - 0s 921us/step - loss: 0.5067 - accuracy: 0.7494\n",
      "Epoch 30/70\n",
      "510/510 [==============================] - 0s 874us/step - loss: 0.5066 - accuracy: 0.7498\n",
      "Epoch 31/70\n",
      "510/510 [==============================] - 0s 911us/step - loss: 0.5068 - accuracy: 0.7484\n",
      "Epoch 32/70\n",
      "510/510 [==============================] - 0s 882us/step - loss: 0.5067 - accuracy: 0.7498\n",
      "Epoch 33/70\n",
      "510/510 [==============================] - 0s 879us/step - loss: 0.5062 - accuracy: 0.7488\n",
      "Epoch 34/70\n",
      "510/510 [==============================] - 0s 867us/step - loss: 0.5064 - accuracy: 0.7492\n",
      "Epoch 35/70\n",
      "510/510 [==============================] - 0s 912us/step - loss: 0.5065 - accuracy: 0.7475\n",
      "Epoch 36/70\n",
      "510/510 [==============================] - 0s 916us/step - loss: 0.5065 - accuracy: 0.7478\n",
      "Epoch 37/70\n",
      "510/510 [==============================] - 0s 919us/step - loss: 0.5063 - accuracy: 0.7480\n",
      "Epoch 38/70\n",
      "510/510 [==============================] - 0s 889us/step - loss: 0.5061 - accuracy: 0.7473\n",
      "Epoch 39/70\n",
      "510/510 [==============================] - 0s 876us/step - loss: 0.5063 - accuracy: 0.7475\n",
      "Epoch 40/70\n",
      "510/510 [==============================] - 0s 915us/step - loss: 0.5059 - accuracy: 0.7486\n",
      "Epoch 41/70\n",
      "510/510 [==============================] - 0s 896us/step - loss: 0.5057 - accuracy: 0.7476\n",
      "Epoch 42/70\n",
      "510/510 [==============================] - 0s 887us/step - loss: 0.5060 - accuracy: 0.7496\n",
      "Epoch 43/70\n",
      "510/510 [==============================] - 0s 872us/step - loss: 0.5058 - accuracy: 0.7473\n",
      "Epoch 44/70\n",
      "510/510 [==============================] - 0s 876us/step - loss: 0.5058 - accuracy: 0.7459\n",
      "Epoch 45/70\n",
      "510/510 [==============================] - 0s 879us/step - loss: 0.5059 - accuracy: 0.7496\n",
      "Epoch 46/70\n",
      "510/510 [==============================] - 0s 871us/step - loss: 0.5058 - accuracy: 0.7480\n",
      "Epoch 47/70\n",
      "510/510 [==============================] - 0s 866us/step - loss: 0.5058 - accuracy: 0.7514\n",
      "Epoch 48/70\n",
      "510/510 [==============================] - 0s 905us/step - loss: 0.5060 - accuracy: 0.7459\n",
      "Epoch 49/70\n",
      "510/510 [==============================] - 0s 871us/step - loss: 0.5059 - accuracy: 0.7490\n",
      "Epoch 50/70\n",
      "510/510 [==============================] - 0s 888us/step - loss: 0.5057 - accuracy: 0.7494\n",
      "Epoch 51/70\n",
      "510/510 [==============================] - 0s 915us/step - loss: 0.5059 - accuracy: 0.7500\n",
      "Epoch 52/70\n",
      "510/510 [==============================] - 0s 870us/step - loss: 0.5060 - accuracy: 0.7480\n",
      "Epoch 53/70\n",
      "510/510 [==============================] - 0s 909us/step - loss: 0.5057 - accuracy: 0.7476\n",
      "Epoch 54/70\n",
      "510/510 [==============================] - 0s 890us/step - loss: 0.5057 - accuracy: 0.7494\n",
      "Epoch 55/70\n",
      "510/510 [==============================] - 0s 908us/step - loss: 0.5057 - accuracy: 0.7484\n",
      "Epoch 56/70\n",
      "510/510 [==============================] - 0s 872us/step - loss: 0.5056 - accuracy: 0.7475\n",
      "Epoch 57/70\n",
      "510/510 [==============================] - 0s 864us/step - loss: 0.5060 - accuracy: 0.7492\n",
      "Epoch 58/70\n",
      "510/510 [==============================] - 0s 883us/step - loss: 0.5056 - accuracy: 0.7463\n",
      "Epoch 59/70\n",
      "510/510 [==============================] - 0s 853us/step - loss: 0.5057 - accuracy: 0.7484\n",
      "Epoch 60/70\n",
      "510/510 [==============================] - 0s 878us/step - loss: 0.5058 - accuracy: 0.7492\n",
      "Epoch 61/70\n",
      "510/510 [==============================] - 0s 870us/step - loss: 0.5053 - accuracy: 0.7471\n",
      "Epoch 62/70\n",
      "510/510 [==============================] - 0s 950us/step - loss: 0.5056 - accuracy: 0.7490\n",
      "Epoch 63/70\n",
      "510/510 [==============================] - 0s 889us/step - loss: 0.5060 - accuracy: 0.7469\n",
      "Epoch 64/70\n",
      "510/510 [==============================] - 0s 873us/step - loss: 0.5057 - accuracy: 0.7457\n",
      "Epoch 65/70\n",
      "510/510 [==============================] - 0s 896us/step - loss: 0.5058 - accuracy: 0.7486\n",
      "Epoch 66/70\n",
      "510/510 [==============================] - 0s 870us/step - loss: 0.5055 - accuracy: 0.7478\n",
      "Epoch 67/70\n",
      "510/510 [==============================] - 0s 875us/step - loss: 0.5057 - accuracy: 0.7480\n",
      "Epoch 68/70\n",
      "510/510 [==============================] - 0s 880us/step - loss: 0.5058 - accuracy: 0.7480\n",
      "Epoch 69/70\n",
      "510/510 [==============================] - 0s 904us/step - loss: 0.5050 - accuracy: 0.7488\n",
      "Epoch 70/70\n",
      "510/510 [==============================] - 0s 871us/step - loss: 0.5060 - accuracy: 0.7494\n"
     ]
    }
   ],
   "source": [
    "grid = GridSearchCV(estimator=model, param_grid=param_grid, n_jobs=-1, cv=3)\n",
    "grid_result = grid.fit(X_train,y_train)"
   ]
  },
  {
   "cell_type": "code",
   "execution_count": 228,
   "metadata": {},
   "outputs": [
    {
     "data": {
      "text/html": [
       "<style>#sk-container-id-10 {color: black;background-color: white;}#sk-container-id-10 pre{padding: 0;}#sk-container-id-10 div.sk-toggleable {background-color: white;}#sk-container-id-10 label.sk-toggleable__label {cursor: pointer;display: block;width: 100%;margin-bottom: 0;padding: 0.3em;box-sizing: border-box;text-align: center;}#sk-container-id-10 label.sk-toggleable__label-arrow:before {content: \"▸\";float: left;margin-right: 0.25em;color: #696969;}#sk-container-id-10 label.sk-toggleable__label-arrow:hover:before {color: black;}#sk-container-id-10 div.sk-estimator:hover label.sk-toggleable__label-arrow:before {color: black;}#sk-container-id-10 div.sk-toggleable__content {max-height: 0;max-width: 0;overflow: hidden;text-align: left;background-color: #f0f8ff;}#sk-container-id-10 div.sk-toggleable__content pre {margin: 0.2em;color: black;border-radius: 0.25em;background-color: #f0f8ff;}#sk-container-id-10 input.sk-toggleable__control:checked~div.sk-toggleable__content {max-height: 200px;max-width: 100%;overflow: auto;}#sk-container-id-10 input.sk-toggleable__control:checked~label.sk-toggleable__label-arrow:before {content: \"▾\";}#sk-container-id-10 div.sk-estimator input.sk-toggleable__control:checked~label.sk-toggleable__label {background-color: #d4ebff;}#sk-container-id-10 div.sk-label input.sk-toggleable__control:checked~label.sk-toggleable__label {background-color: #d4ebff;}#sk-container-id-10 input.sk-hidden--visually {border: 0;clip: rect(1px 1px 1px 1px);clip: rect(1px, 1px, 1px, 1px);height: 1px;margin: -1px;overflow: hidden;padding: 0;position: absolute;width: 1px;}#sk-container-id-10 div.sk-estimator {font-family: monospace;background-color: #f0f8ff;border: 1px dotted black;border-radius: 0.25em;box-sizing: border-box;margin-bottom: 0.5em;}#sk-container-id-10 div.sk-estimator:hover {background-color: #d4ebff;}#sk-container-id-10 div.sk-parallel-item::after {content: \"\";width: 100%;border-bottom: 1px solid gray;flex-grow: 1;}#sk-container-id-10 div.sk-label:hover label.sk-toggleable__label {background-color: #d4ebff;}#sk-container-id-10 div.sk-serial::before {content: \"\";position: absolute;border-left: 1px solid gray;box-sizing: border-box;top: 0;bottom: 0;left: 50%;z-index: 0;}#sk-container-id-10 div.sk-serial {display: flex;flex-direction: column;align-items: center;background-color: white;padding-right: 0.2em;padding-left: 0.2em;position: relative;}#sk-container-id-10 div.sk-item {position: relative;z-index: 1;}#sk-container-id-10 div.sk-parallel {display: flex;align-items: stretch;justify-content: center;background-color: white;position: relative;}#sk-container-id-10 div.sk-item::before, #sk-container-id-10 div.sk-parallel-item::before {content: \"\";position: absolute;border-left: 1px solid gray;box-sizing: border-box;top: 0;bottom: 0;left: 50%;z-index: -1;}#sk-container-id-10 div.sk-parallel-item {display: flex;flex-direction: column;z-index: 1;position: relative;background-color: white;}#sk-container-id-10 div.sk-parallel-item:first-child::after {align-self: flex-end;width: 50%;}#sk-container-id-10 div.sk-parallel-item:last-child::after {align-self: flex-start;width: 50%;}#sk-container-id-10 div.sk-parallel-item:only-child::after {width: 0;}#sk-container-id-10 div.sk-dashed-wrapped {border: 1px dashed gray;margin: 0 0.4em 0.5em 0.4em;box-sizing: border-box;padding-bottom: 0.4em;background-color: white;}#sk-container-id-10 div.sk-label label {font-family: monospace;font-weight: bold;display: inline-block;line-height: 1.2em;}#sk-container-id-10 div.sk-label-container {text-align: center;}#sk-container-id-10 div.sk-container {/* jupyter's `normalize.less` sets `[hidden] { display: none; }` but bootstrap.min.css set `[hidden] { display: none !important; }` so we also need the `!important` here to be able to override the default hidden behavior on the sphinx rendered scikit-learn.org. See: https://github.com/scikit-learn/scikit-learn/issues/21755 */display: inline-block !important;position: relative;}#sk-container-id-10 div.sk-text-repr-fallback {display: none;}</style><div id=\"sk-container-id-10\" class=\"sk-top-container\"><div class=\"sk-text-repr-fallback\"><pre>KerasClassifier(\n",
       "\tmodel=&lt;keras.engine.sequential.Sequential object at 0x00000225A69EFD60&gt;\n",
       "\tbuild_fn=None\n",
       "\twarm_start=False\n",
       "\trandom_state=None\n",
       "\toptimizer=rmsprop\n",
       "\tloss=None\n",
       "\tmetrics=None\n",
       "\tbatch_size=10\n",
       "\tvalidation_batch_size=None\n",
       "\tverbose=1\n",
       "\tcallbacks=None\n",
       "\tvalidation_split=0.0\n",
       "\tshuffle=True\n",
       "\trun_eagerly=False\n",
       "\tepochs=70\n",
       "\tclass_weight=None\n",
       ")</pre><b>In a Jupyter environment, please rerun this cell to show the HTML representation or trust the notebook. <br />On GitHub, the HTML representation is unable to render, please try loading this page with nbviewer.org.</b></div><div class=\"sk-container\" hidden><div class=\"sk-item\"><div class=\"sk-estimator sk-toggleable\"><input class=\"sk-toggleable__control sk-hidden--visually\" id=\"sk-estimator-id-10\" type=\"checkbox\" checked><label for=\"sk-estimator-id-10\" class=\"sk-toggleable__label sk-toggleable__label-arrow\">KerasClassifier</label><div class=\"sk-toggleable__content\"><pre>KerasClassifier(\n",
       "\tmodel=&lt;keras.engine.sequential.Sequential object at 0x00000225A69EFD60&gt;\n",
       "\tbuild_fn=None\n",
       "\twarm_start=False\n",
       "\trandom_state=None\n",
       "\toptimizer=rmsprop\n",
       "\tloss=None\n",
       "\tmetrics=None\n",
       "\tbatch_size=10\n",
       "\tvalidation_batch_size=None\n",
       "\tverbose=1\n",
       "\tcallbacks=None\n",
       "\tvalidation_split=0.0\n",
       "\tshuffle=True\n",
       "\trun_eagerly=False\n",
       "\tepochs=70\n",
       "\tclass_weight=None\n",
       ")</pre></div></div></div></div></div>"
      ],
      "text/plain": [
       "KerasClassifier(\n",
       "\tmodel=<keras.engine.sequential.Sequential object at 0x00000225A69EFD60>\n",
       "\tbuild_fn=None\n",
       "\twarm_start=False\n",
       "\trandom_state=None\n",
       "\toptimizer=rmsprop\n",
       "\tloss=None\n",
       "\tmetrics=None\n",
       "\tbatch_size=10\n",
       "\tvalidation_batch_size=None\n",
       "\tverbose=1\n",
       "\tcallbacks=None\n",
       "\tvalidation_split=0.0\n",
       "\tshuffle=True\n",
       "\trun_eagerly=False\n",
       "\tepochs=70\n",
       "\tclass_weight=None\n",
       ")"
      ]
     },
     "execution_count": 228,
     "metadata": {},
     "output_type": "execute_result"
    }
   ],
   "source": [
    "grid.best_estimator_"
   ]
  },
  {
   "cell_type": "code",
   "execution_count": 229,
   "metadata": {},
   "outputs": [
    {
     "data": {
      "text/plain": [
       "{'batch_size': 10, 'epochs': 70}"
      ]
     },
     "execution_count": 229,
     "metadata": {},
     "output_type": "execute_result"
    }
   ],
   "source": [
    "grid.best_params_"
   ]
  },
  {
   "cell_type": "code",
   "execution_count": 230,
   "metadata": {},
   "outputs": [
    {
     "data": {
      "text/plain": [
       "0.7490196078431373"
      ]
     },
     "execution_count": 230,
     "metadata": {},
     "output_type": "execute_result"
    }
   ],
   "source": [
    "grid.best_score_"
   ]
  },
  {
   "cell_type": "code",
   "execution_count": 231,
   "metadata": {},
   "outputs": [],
   "source": [
    "n_model=grid.best_estimator_"
   ]
  },
  {
   "cell_type": "code",
   "execution_count": 232,
   "metadata": {},
   "outputs": [
    {
     "data": {
      "text/html": [
       "<style>#sk-container-id-11 {color: black;background-color: white;}#sk-container-id-11 pre{padding: 0;}#sk-container-id-11 div.sk-toggleable {background-color: white;}#sk-container-id-11 label.sk-toggleable__label {cursor: pointer;display: block;width: 100%;margin-bottom: 0;padding: 0.3em;box-sizing: border-box;text-align: center;}#sk-container-id-11 label.sk-toggleable__label-arrow:before {content: \"▸\";float: left;margin-right: 0.25em;color: #696969;}#sk-container-id-11 label.sk-toggleable__label-arrow:hover:before {color: black;}#sk-container-id-11 div.sk-estimator:hover label.sk-toggleable__label-arrow:before {color: black;}#sk-container-id-11 div.sk-toggleable__content {max-height: 0;max-width: 0;overflow: hidden;text-align: left;background-color: #f0f8ff;}#sk-container-id-11 div.sk-toggleable__content pre {margin: 0.2em;color: black;border-radius: 0.25em;background-color: #f0f8ff;}#sk-container-id-11 input.sk-toggleable__control:checked~div.sk-toggleable__content {max-height: 200px;max-width: 100%;overflow: auto;}#sk-container-id-11 input.sk-toggleable__control:checked~label.sk-toggleable__label-arrow:before {content: \"▾\";}#sk-container-id-11 div.sk-estimator input.sk-toggleable__control:checked~label.sk-toggleable__label {background-color: #d4ebff;}#sk-container-id-11 div.sk-label input.sk-toggleable__control:checked~label.sk-toggleable__label {background-color: #d4ebff;}#sk-container-id-11 input.sk-hidden--visually {border: 0;clip: rect(1px 1px 1px 1px);clip: rect(1px, 1px, 1px, 1px);height: 1px;margin: -1px;overflow: hidden;padding: 0;position: absolute;width: 1px;}#sk-container-id-11 div.sk-estimator {font-family: monospace;background-color: #f0f8ff;border: 1px dotted black;border-radius: 0.25em;box-sizing: border-box;margin-bottom: 0.5em;}#sk-container-id-11 div.sk-estimator:hover {background-color: #d4ebff;}#sk-container-id-11 div.sk-parallel-item::after {content: \"\";width: 100%;border-bottom: 1px solid gray;flex-grow: 1;}#sk-container-id-11 div.sk-label:hover label.sk-toggleable__label {background-color: #d4ebff;}#sk-container-id-11 div.sk-serial::before {content: \"\";position: absolute;border-left: 1px solid gray;box-sizing: border-box;top: 0;bottom: 0;left: 50%;z-index: 0;}#sk-container-id-11 div.sk-serial {display: flex;flex-direction: column;align-items: center;background-color: white;padding-right: 0.2em;padding-left: 0.2em;position: relative;}#sk-container-id-11 div.sk-item {position: relative;z-index: 1;}#sk-container-id-11 div.sk-parallel {display: flex;align-items: stretch;justify-content: center;background-color: white;position: relative;}#sk-container-id-11 div.sk-item::before, #sk-container-id-11 div.sk-parallel-item::before {content: \"\";position: absolute;border-left: 1px solid gray;box-sizing: border-box;top: 0;bottom: 0;left: 50%;z-index: -1;}#sk-container-id-11 div.sk-parallel-item {display: flex;flex-direction: column;z-index: 1;position: relative;background-color: white;}#sk-container-id-11 div.sk-parallel-item:first-child::after {align-self: flex-end;width: 50%;}#sk-container-id-11 div.sk-parallel-item:last-child::after {align-self: flex-start;width: 50%;}#sk-container-id-11 div.sk-parallel-item:only-child::after {width: 0;}#sk-container-id-11 div.sk-dashed-wrapped {border: 1px dashed gray;margin: 0 0.4em 0.5em 0.4em;box-sizing: border-box;padding-bottom: 0.4em;background-color: white;}#sk-container-id-11 div.sk-label label {font-family: monospace;font-weight: bold;display: inline-block;line-height: 1.2em;}#sk-container-id-11 div.sk-label-container {text-align: center;}#sk-container-id-11 div.sk-container {/* jupyter's `normalize.less` sets `[hidden] { display: none; }` but bootstrap.min.css set `[hidden] { display: none !important; }` so we also need the `!important` here to be able to override the default hidden behavior on the sphinx rendered scikit-learn.org. See: https://github.com/scikit-learn/scikit-learn/issues/21755 */display: inline-block !important;position: relative;}#sk-container-id-11 div.sk-text-repr-fallback {display: none;}</style><div id=\"sk-container-id-11\" class=\"sk-top-container\"><div class=\"sk-text-repr-fallback\"><pre>KerasClassifier(\n",
       "\tmodel=&lt;keras.engine.sequential.Sequential object at 0x00000225A69EFD60&gt;\n",
       "\tbuild_fn=None\n",
       "\twarm_start=False\n",
       "\trandom_state=None\n",
       "\toptimizer=rmsprop\n",
       "\tloss=None\n",
       "\tmetrics=None\n",
       "\tbatch_size=10\n",
       "\tvalidation_batch_size=None\n",
       "\tverbose=1\n",
       "\tcallbacks=None\n",
       "\tvalidation_split=0.0\n",
       "\tshuffle=True\n",
       "\trun_eagerly=False\n",
       "\tepochs=70\n",
       "\tclass_weight=None\n",
       ")</pre><b>In a Jupyter environment, please rerun this cell to show the HTML representation or trust the notebook. <br />On GitHub, the HTML representation is unable to render, please try loading this page with nbviewer.org.</b></div><div class=\"sk-container\" hidden><div class=\"sk-item\"><div class=\"sk-estimator sk-toggleable\"><input class=\"sk-toggleable__control sk-hidden--visually\" id=\"sk-estimator-id-11\" type=\"checkbox\" checked><label for=\"sk-estimator-id-11\" class=\"sk-toggleable__label sk-toggleable__label-arrow\">KerasClassifier</label><div class=\"sk-toggleable__content\"><pre>KerasClassifier(\n",
       "\tmodel=&lt;keras.engine.sequential.Sequential object at 0x00000225A69EFD60&gt;\n",
       "\tbuild_fn=None\n",
       "\twarm_start=False\n",
       "\trandom_state=None\n",
       "\toptimizer=rmsprop\n",
       "\tloss=None\n",
       "\tmetrics=None\n",
       "\tbatch_size=10\n",
       "\tvalidation_batch_size=None\n",
       "\tverbose=1\n",
       "\tcallbacks=None\n",
       "\tvalidation_split=0.0\n",
       "\tshuffle=True\n",
       "\trun_eagerly=False\n",
       "\tepochs=70\n",
       "\tclass_weight=None\n",
       ")</pre></div></div></div></div></div>"
      ],
      "text/plain": [
       "KerasClassifier(\n",
       "\tmodel=<keras.engine.sequential.Sequential object at 0x00000225A69EFD60>\n",
       "\tbuild_fn=None\n",
       "\twarm_start=False\n",
       "\trandom_state=None\n",
       "\toptimizer=rmsprop\n",
       "\tloss=None\n",
       "\tmetrics=None\n",
       "\tbatch_size=10\n",
       "\tvalidation_batch_size=None\n",
       "\tverbose=1\n",
       "\tcallbacks=None\n",
       "\tvalidation_split=0.0\n",
       "\tshuffle=True\n",
       "\trun_eagerly=False\n",
       "\tepochs=70\n",
       "\tclass_weight=None\n",
       ")"
      ]
     },
     "execution_count": 232,
     "metadata": {},
     "output_type": "execute_result"
    }
   ],
   "source": [
    "n_model"
   ]
  },
  {
   "cell_type": "code",
   "execution_count": 233,
   "metadata": {},
   "outputs": [
    {
     "name": "stdout",
     "output_type": "stream",
     "text": [
      "90/90 [==============================] - 0s 668us/step\n"
     ]
    },
    {
     "data": {
      "text/plain": [
       "0.7566666666666667"
      ]
     },
     "execution_count": 233,
     "metadata": {},
     "output_type": "execute_result"
    }
   ],
   "source": [
    "n_model.score(X_test,y_test)"
   ]
  },
  {
   "cell_type": "code",
   "execution_count": 234,
   "metadata": {},
   "outputs": [],
   "source": [
    "x=p152.drop(\"prognosis\", axis=1)\n",
    "y=p152[\"prognosis\"]\n",
    "X_train, X_test, y_train, y_test = train_test_split(x, y, test_size=0.15, random_state=42)"
   ]
  },
  {
   "cell_type": "code",
   "execution_count": 235,
   "metadata": {},
   "outputs": [
    {
     "name": "stdout",
     "output_type": "stream",
     "text": [
      "90/90 [==============================] - 0s 649us/step\n"
     ]
    },
    {
     "data": {
      "text/plain": [
       "0.7566666666666667"
      ]
     },
     "execution_count": 235,
     "metadata": {},
     "output_type": "execute_result"
    }
   ],
   "source": [
    "n_model.score(X_test,y_test)"
   ]
  },
  {
   "cell_type": "code",
   "execution_count": 236,
   "metadata": {},
   "outputs": [
    {
     "name": "stdout",
     "output_type": "stream",
     "text": [
      "INFO:tensorflow:Assets written to: C:\\Users\\acer\\AppData\\Local\\Temp\\tmp0wkdvbx1\\assets\n"
     ]
    }
   ],
   "source": [
    "import pickle\n",
    "pickle.dump(n_model, open('N_model.sav', 'wb'))"
   ]
  },
  {
   "cell_type": "code",
   "execution_count": 237,
   "metadata": {},
   "outputs": [],
   "source": [
    "pickle.dump(scaler, open('scaler.pkl', 'wb'))"
   ]
  },
  {
   "cell_type": "code",
   "execution_count": 238,
   "metadata": {},
   "outputs": [
    {
     "name": "stdout",
     "output_type": "stream",
     "text": [
      "90/90 [==============================] - 0s 710us/step\n"
     ]
    },
    {
     "data": {
      "text/plain": [
       "array([[315, 122],\n",
       "       [ 97, 366]], dtype=int64)"
      ]
     },
     "execution_count": 238,
     "metadata": {},
     "output_type": "execute_result"
    }
   ],
   "source": [
    "confusion_matrix(y_test,n_model.predict(X_test))"
   ]
  },
  {
   "cell_type": "markdown",
   "metadata": {},
   "source": [
    "### NN for Categorised data"
   ]
  },
  {
   "cell_type": "code",
   "execution_count": 239,
   "metadata": {},
   "outputs": [],
   "source": [
    "p152_cat=pd.read_csv(\"p152_cate.csv\", index_col=\"ID\")"
   ]
  },
  {
   "cell_type": "code",
   "execution_count": 240,
   "metadata": {},
   "outputs": [
    {
     "data": {
      "text/html": [
       "<div>\n",
       "<style scoped>\n",
       "    .dataframe tbody tr th:only-of-type {\n",
       "        vertical-align: middle;\n",
       "    }\n",
       "\n",
       "    .dataframe tbody tr th {\n",
       "        vertical-align: top;\n",
       "    }\n",
       "\n",
       "    .dataframe thead th {\n",
       "        text-align: right;\n",
       "    }\n",
       "</style>\n",
       "<table border=\"1\" class=\"dataframe\">\n",
       "  <thead>\n",
       "    <tr style=\"text-align: right;\">\n",
       "      <th></th>\n",
       "      <th>age_Cate</th>\n",
       "      <th>prognosis</th>\n",
       "      <th>diastolic_bp</th>\n",
       "      <th>cholesterol</th>\n",
       "      <th>systolic_bp</th>\n",
       "    </tr>\n",
       "    <tr>\n",
       "      <th>ID</th>\n",
       "      <th></th>\n",
       "      <th></th>\n",
       "      <th></th>\n",
       "      <th></th>\n",
       "      <th></th>\n",
       "    </tr>\n",
       "  </thead>\n",
       "  <tbody>\n",
       "    <tr>\n",
       "      <th>0</th>\n",
       "      <td>75-85</td>\n",
       "      <td>1</td>\n",
       "      <td>Normal_bp</td>\n",
       "      <td>optimal</td>\n",
       "      <td>Normal_bp</td>\n",
       "    </tr>\n",
       "    <tr>\n",
       "      <th>1</th>\n",
       "      <td>55-65</td>\n",
       "      <td>1</td>\n",
       "      <td>Normal_bp</td>\n",
       "      <td>Borderline_high</td>\n",
       "      <td>Normal_bp</td>\n",
       "    </tr>\n",
       "  </tbody>\n",
       "</table>\n",
       "</div>"
      ],
      "text/plain": [
       "   age_Cate  prognosis diastolic_bp      cholesterol systolic_bp\n",
       "ID                                                              \n",
       "0     75-85          1    Normal_bp          optimal   Normal_bp\n",
       "1     55-65          1    Normal_bp  Borderline_high   Normal_bp"
      ]
     },
     "execution_count": 240,
     "metadata": {},
     "output_type": "execute_result"
    }
   ],
   "source": [
    "p152_cat.head(2)"
   ]
  },
  {
   "cell_type": "code",
   "execution_count": 241,
   "metadata": {},
   "outputs": [],
   "source": [
    "p152_cat2=pd.get_dummies(data=p152_cat, columns=[\"age_Cate\",\"diastolic_bp\",\"cholesterol\",\"systolic_bp\"])"
   ]
  },
  {
   "cell_type": "code",
   "execution_count": 242,
   "metadata": {},
   "outputs": [],
   "source": [
    "p152_cat2[\"prognosis\"]=p152_cat[\"prognosis\"]"
   ]
  },
  {
   "cell_type": "code",
   "execution_count": 243,
   "metadata": {},
   "outputs": [
    {
     "data": {
      "text/html": [
       "<div>\n",
       "<style scoped>\n",
       "    .dataframe tbody tr th:only-of-type {\n",
       "        vertical-align: middle;\n",
       "    }\n",
       "\n",
       "    .dataframe tbody tr th {\n",
       "        vertical-align: top;\n",
       "    }\n",
       "\n",
       "    .dataframe thead th {\n",
       "        text-align: right;\n",
       "    }\n",
       "</style>\n",
       "<table border=\"1\" class=\"dataframe\">\n",
       "  <thead>\n",
       "    <tr style=\"text-align: right;\">\n",
       "      <th></th>\n",
       "      <th>prognosis</th>\n",
       "      <th>age_Cate_100-105</th>\n",
       "      <th>age_Cate_35-45</th>\n",
       "      <th>age_Cate_45-55</th>\n",
       "      <th>age_Cate_55-65</th>\n",
       "      <th>age_Cate_65-75</th>\n",
       "      <th>age_Cate_75-85</th>\n",
       "      <th>age_Cate_85-95</th>\n",
       "      <th>age_Cate_95-100</th>\n",
       "      <th>diastolic_bp_Hypertensive_crisis</th>\n",
       "      <th>diastolic_bp_Normal_bp</th>\n",
       "      <th>diastolic_bp_Stage_1_hypertension</th>\n",
       "      <th>diastolic_bp_Stage_2_hypertension</th>\n",
       "      <th>cholesterol_Borderline_high</th>\n",
       "      <th>cholesterol_above_optimal</th>\n",
       "      <th>cholesterol_optimal</th>\n",
       "      <th>systolic_bp_Elevated</th>\n",
       "      <th>systolic_bp_Normal_bp</th>\n",
       "      <th>systolic_bp_Stage_1_hypertension</th>\n",
       "      <th>systolic_bp_Stage_2_hypertension</th>\n",
       "    </tr>\n",
       "    <tr>\n",
       "      <th>ID</th>\n",
       "      <th></th>\n",
       "      <th></th>\n",
       "      <th></th>\n",
       "      <th></th>\n",
       "      <th></th>\n",
       "      <th></th>\n",
       "      <th></th>\n",
       "      <th></th>\n",
       "      <th></th>\n",
       "      <th></th>\n",
       "      <th></th>\n",
       "      <th></th>\n",
       "      <th></th>\n",
       "      <th></th>\n",
       "      <th></th>\n",
       "      <th></th>\n",
       "      <th></th>\n",
       "      <th></th>\n",
       "      <th></th>\n",
       "      <th></th>\n",
       "    </tr>\n",
       "  </thead>\n",
       "  <tbody>\n",
       "    <tr>\n",
       "      <th>0</th>\n",
       "      <td>1</td>\n",
       "      <td>0</td>\n",
       "      <td>0</td>\n",
       "      <td>0</td>\n",
       "      <td>0</td>\n",
       "      <td>0</td>\n",
       "      <td>1</td>\n",
       "      <td>0</td>\n",
       "      <td>0</td>\n",
       "      <td>0</td>\n",
       "      <td>1</td>\n",
       "      <td>0</td>\n",
       "      <td>0</td>\n",
       "      <td>0</td>\n",
       "      <td>0</td>\n",
       "      <td>1</td>\n",
       "      <td>0</td>\n",
       "      <td>1</td>\n",
       "      <td>0</td>\n",
       "      <td>0</td>\n",
       "    </tr>\n",
       "    <tr>\n",
       "      <th>1</th>\n",
       "      <td>1</td>\n",
       "      <td>0</td>\n",
       "      <td>0</td>\n",
       "      <td>0</td>\n",
       "      <td>1</td>\n",
       "      <td>0</td>\n",
       "      <td>0</td>\n",
       "      <td>0</td>\n",
       "      <td>0</td>\n",
       "      <td>0</td>\n",
       "      <td>1</td>\n",
       "      <td>0</td>\n",
       "      <td>0</td>\n",
       "      <td>1</td>\n",
       "      <td>0</td>\n",
       "      <td>0</td>\n",
       "      <td>0</td>\n",
       "      <td>1</td>\n",
       "      <td>0</td>\n",
       "      <td>0</td>\n",
       "    </tr>\n",
       "    <tr>\n",
       "      <th>2</th>\n",
       "      <td>1</td>\n",
       "      <td>0</td>\n",
       "      <td>0</td>\n",
       "      <td>0</td>\n",
       "      <td>0</td>\n",
       "      <td>1</td>\n",
       "      <td>0</td>\n",
       "      <td>0</td>\n",
       "      <td>0</td>\n",
       "      <td>0</td>\n",
       "      <td>0</td>\n",
       "      <td>0</td>\n",
       "      <td>1</td>\n",
       "      <td>0</td>\n",
       "      <td>1</td>\n",
       "      <td>0</td>\n",
       "      <td>0</td>\n",
       "      <td>1</td>\n",
       "      <td>0</td>\n",
       "      <td>0</td>\n",
       "    </tr>\n",
       "    <tr>\n",
       "      <th>3</th>\n",
       "      <td>1</td>\n",
       "      <td>0</td>\n",
       "      <td>0</td>\n",
       "      <td>0</td>\n",
       "      <td>0</td>\n",
       "      <td>0</td>\n",
       "      <td>1</td>\n",
       "      <td>0</td>\n",
       "      <td>0</td>\n",
       "      <td>0</td>\n",
       "      <td>1</td>\n",
       "      <td>0</td>\n",
       "      <td>0</td>\n",
       "      <td>0</td>\n",
       "      <td>0</td>\n",
       "      <td>1</td>\n",
       "      <td>0</td>\n",
       "      <td>1</td>\n",
       "      <td>0</td>\n",
       "      <td>0</td>\n",
       "    </tr>\n",
       "    <tr>\n",
       "      <th>4</th>\n",
       "      <td>1</td>\n",
       "      <td>0</td>\n",
       "      <td>0</td>\n",
       "      <td>0</td>\n",
       "      <td>0</td>\n",
       "      <td>0</td>\n",
       "      <td>1</td>\n",
       "      <td>0</td>\n",
       "      <td>0</td>\n",
       "      <td>0</td>\n",
       "      <td>0</td>\n",
       "      <td>1</td>\n",
       "      <td>0</td>\n",
       "      <td>0</td>\n",
       "      <td>0</td>\n",
       "      <td>1</td>\n",
       "      <td>0</td>\n",
       "      <td>1</td>\n",
       "      <td>0</td>\n",
       "      <td>0</td>\n",
       "    </tr>\n",
       "    <tr>\n",
       "      <th>...</th>\n",
       "      <td>...</td>\n",
       "      <td>...</td>\n",
       "      <td>...</td>\n",
       "      <td>...</td>\n",
       "      <td>...</td>\n",
       "      <td>...</td>\n",
       "      <td>...</td>\n",
       "      <td>...</td>\n",
       "      <td>...</td>\n",
       "      <td>...</td>\n",
       "      <td>...</td>\n",
       "      <td>...</td>\n",
       "      <td>...</td>\n",
       "      <td>...</td>\n",
       "      <td>...</td>\n",
       "      <td>...</td>\n",
       "      <td>...</td>\n",
       "      <td>...</td>\n",
       "      <td>...</td>\n",
       "      <td>...</td>\n",
       "    </tr>\n",
       "    <tr>\n",
       "      <th>5995</th>\n",
       "      <td>0</td>\n",
       "      <td>0</td>\n",
       "      <td>0</td>\n",
       "      <td>1</td>\n",
       "      <td>0</td>\n",
       "      <td>0</td>\n",
       "      <td>0</td>\n",
       "      <td>0</td>\n",
       "      <td>0</td>\n",
       "      <td>0</td>\n",
       "      <td>1</td>\n",
       "      <td>0</td>\n",
       "      <td>0</td>\n",
       "      <td>1</td>\n",
       "      <td>0</td>\n",
       "      <td>0</td>\n",
       "      <td>0</td>\n",
       "      <td>1</td>\n",
       "      <td>0</td>\n",
       "      <td>0</td>\n",
       "    </tr>\n",
       "    <tr>\n",
       "      <th>5996</th>\n",
       "      <td>1</td>\n",
       "      <td>0</td>\n",
       "      <td>0</td>\n",
       "      <td>0</td>\n",
       "      <td>1</td>\n",
       "      <td>0</td>\n",
       "      <td>0</td>\n",
       "      <td>0</td>\n",
       "      <td>0</td>\n",
       "      <td>0</td>\n",
       "      <td>0</td>\n",
       "      <td>1</td>\n",
       "      <td>0</td>\n",
       "      <td>0</td>\n",
       "      <td>1</td>\n",
       "      <td>0</td>\n",
       "      <td>0</td>\n",
       "      <td>1</td>\n",
       "      <td>0</td>\n",
       "      <td>0</td>\n",
       "    </tr>\n",
       "    <tr>\n",
       "      <th>5997</th>\n",
       "      <td>1</td>\n",
       "      <td>0</td>\n",
       "      <td>0</td>\n",
       "      <td>0</td>\n",
       "      <td>1</td>\n",
       "      <td>0</td>\n",
       "      <td>0</td>\n",
       "      <td>0</td>\n",
       "      <td>0</td>\n",
       "      <td>0</td>\n",
       "      <td>0</td>\n",
       "      <td>0</td>\n",
       "      <td>1</td>\n",
       "      <td>1</td>\n",
       "      <td>0</td>\n",
       "      <td>0</td>\n",
       "      <td>0</td>\n",
       "      <td>1</td>\n",
       "      <td>0</td>\n",
       "      <td>0</td>\n",
       "    </tr>\n",
       "    <tr>\n",
       "      <th>5998</th>\n",
       "      <td>1</td>\n",
       "      <td>0</td>\n",
       "      <td>0</td>\n",
       "      <td>0</td>\n",
       "      <td>1</td>\n",
       "      <td>0</td>\n",
       "      <td>0</td>\n",
       "      <td>0</td>\n",
       "      <td>0</td>\n",
       "      <td>0</td>\n",
       "      <td>1</td>\n",
       "      <td>0</td>\n",
       "      <td>0</td>\n",
       "      <td>0</td>\n",
       "      <td>1</td>\n",
       "      <td>0</td>\n",
       "      <td>0</td>\n",
       "      <td>1</td>\n",
       "      <td>0</td>\n",
       "      <td>0</td>\n",
       "    </tr>\n",
       "    <tr>\n",
       "      <th>5999</th>\n",
       "      <td>0</td>\n",
       "      <td>0</td>\n",
       "      <td>0</td>\n",
       "      <td>0</td>\n",
       "      <td>1</td>\n",
       "      <td>0</td>\n",
       "      <td>0</td>\n",
       "      <td>0</td>\n",
       "      <td>0</td>\n",
       "      <td>0</td>\n",
       "      <td>1</td>\n",
       "      <td>0</td>\n",
       "      <td>0</td>\n",
       "      <td>1</td>\n",
       "      <td>0</td>\n",
       "      <td>0</td>\n",
       "      <td>0</td>\n",
       "      <td>1</td>\n",
       "      <td>0</td>\n",
       "      <td>0</td>\n",
       "    </tr>\n",
       "  </tbody>\n",
       "</table>\n",
       "<p>6000 rows × 20 columns</p>\n",
       "</div>"
      ],
      "text/plain": [
       "      prognosis  age_Cate_100-105  age_Cate_35-45  age_Cate_45-55  \\\n",
       "ID                                                                  \n",
       "0             1                 0               0               0   \n",
       "1             1                 0               0               0   \n",
       "2             1                 0               0               0   \n",
       "3             1                 0               0               0   \n",
       "4             1                 0               0               0   \n",
       "...         ...               ...             ...             ...   \n",
       "5995          0                 0               0               1   \n",
       "5996          1                 0               0               0   \n",
       "5997          1                 0               0               0   \n",
       "5998          1                 0               0               0   \n",
       "5999          0                 0               0               0   \n",
       "\n",
       "      age_Cate_55-65  age_Cate_65-75  age_Cate_75-85  age_Cate_85-95  \\\n",
       "ID                                                                     \n",
       "0                  0               0               1               0   \n",
       "1                  1               0               0               0   \n",
       "2                  0               1               0               0   \n",
       "3                  0               0               1               0   \n",
       "4                  0               0               1               0   \n",
       "...              ...             ...             ...             ...   \n",
       "5995               0               0               0               0   \n",
       "5996               1               0               0               0   \n",
       "5997               1               0               0               0   \n",
       "5998               1               0               0               0   \n",
       "5999               1               0               0               0   \n",
       "\n",
       "      age_Cate_95-100  diastolic_bp_Hypertensive_crisis  \\\n",
       "ID                                                        \n",
       "0                   0                                 0   \n",
       "1                   0                                 0   \n",
       "2                   0                                 0   \n",
       "3                   0                                 0   \n",
       "4                   0                                 0   \n",
       "...               ...                               ...   \n",
       "5995                0                                 0   \n",
       "5996                0                                 0   \n",
       "5997                0                                 0   \n",
       "5998                0                                 0   \n",
       "5999                0                                 0   \n",
       "\n",
       "      diastolic_bp_Normal_bp  diastolic_bp_Stage_1_hypertension  \\\n",
       "ID                                                                \n",
       "0                          1                                  0   \n",
       "1                          1                                  0   \n",
       "2                          0                                  0   \n",
       "3                          1                                  0   \n",
       "4                          0                                  1   \n",
       "...                      ...                                ...   \n",
       "5995                       1                                  0   \n",
       "5996                       0                                  1   \n",
       "5997                       0                                  0   \n",
       "5998                       1                                  0   \n",
       "5999                       1                                  0   \n",
       "\n",
       "      diastolic_bp_Stage_2_hypertension  cholesterol_Borderline_high  \\\n",
       "ID                                                                     \n",
       "0                                     0                            0   \n",
       "1                                     0                            1   \n",
       "2                                     1                            0   \n",
       "3                                     0                            0   \n",
       "4                                     0                            0   \n",
       "...                                 ...                          ...   \n",
       "5995                                  0                            1   \n",
       "5996                                  0                            0   \n",
       "5997                                  1                            1   \n",
       "5998                                  0                            0   \n",
       "5999                                  0                            1   \n",
       "\n",
       "      cholesterol_above_optimal  cholesterol_optimal  systolic_bp_Elevated  \\\n",
       "ID                                                                           \n",
       "0                             0                    1                     0   \n",
       "1                             0                    0                     0   \n",
       "2                             1                    0                     0   \n",
       "3                             0                    1                     0   \n",
       "4                             0                    1                     0   \n",
       "...                         ...                  ...                   ...   \n",
       "5995                          0                    0                     0   \n",
       "5996                          1                    0                     0   \n",
       "5997                          0                    0                     0   \n",
       "5998                          1                    0                     0   \n",
       "5999                          0                    0                     0   \n",
       "\n",
       "      systolic_bp_Normal_bp  systolic_bp_Stage_1_hypertension  \\\n",
       "ID                                                              \n",
       "0                         1                                 0   \n",
       "1                         1                                 0   \n",
       "2                         1                                 0   \n",
       "3                         1                                 0   \n",
       "4                         1                                 0   \n",
       "...                     ...                               ...   \n",
       "5995                      1                                 0   \n",
       "5996                      1                                 0   \n",
       "5997                      1                                 0   \n",
       "5998                      1                                 0   \n",
       "5999                      1                                 0   \n",
       "\n",
       "      systolic_bp_Stage_2_hypertension  \n",
       "ID                                      \n",
       "0                                    0  \n",
       "1                                    0  \n",
       "2                                    0  \n",
       "3                                    0  \n",
       "4                                    0  \n",
       "...                                ...  \n",
       "5995                                 0  \n",
       "5996                                 0  \n",
       "5997                                 0  \n",
       "5998                                 0  \n",
       "5999                                 0  \n",
       "\n",
       "[6000 rows x 20 columns]"
      ]
     },
     "execution_count": 243,
     "metadata": {},
     "output_type": "execute_result"
    }
   ],
   "source": [
    "p152_cat2"
   ]
  },
  {
   "cell_type": "code",
   "execution_count": 244,
   "metadata": {},
   "outputs": [
    {
     "data": {
      "text/plain": [
       "(6000, 4)"
      ]
     },
     "execution_count": 244,
     "metadata": {},
     "output_type": "execute_result"
    }
   ],
   "source": [
    "x.shape"
   ]
  },
  {
   "cell_type": "code",
   "execution_count": 245,
   "metadata": {},
   "outputs": [],
   "source": [
    "x=p152_cat2.drop(\"prognosis\", axis=1)\n",
    "y=p152_cat2[\"prognosis\"]"
   ]
  },
  {
   "cell_type": "code",
   "execution_count": 246,
   "metadata": {},
   "outputs": [],
   "source": [
    "from sklearn.model_selection import train_test_split\n",
    "X_train, X_test, y_train, y_test = train_test_split(x, y, test_size=0.15, random_state=42)"
   ]
  },
  {
   "cell_type": "code",
   "execution_count": 247,
   "metadata": {},
   "outputs": [],
   "source": [
    "# Grid Search Parameter\n",
    "batch_size = [10, 35,50,80, 70]\n",
    "epochs = [10, 30, 70,60,80]\n",
    "param_grid = dict(batch_size=batch_size, epochs=epochs)"
   ]
  },
  {
   "cell_type": "code",
   "execution_count": 248,
   "metadata": {},
   "outputs": [],
   "source": [
    "def create_model():\n",
    "\t# create model\n",
    "\tmodel = Sequential()\n",
    "\tmodel.add(Dense(19, activation='relu', kernel_initializer='random_normal', input_dim=19))\n",
    "    #Second  Hidden Layer\n",
    "\tmodel.add(Dense(4, activation='relu', kernel_initializer='random_normal'))\n",
    "    #Second  Hidden Layer\n",
    "\tmodel.add(Dense(4, activation='relu', kernel_initializer='random_normal'))\n",
    "    #Output Layer\n",
    "\tmodel.add(Dense(1, activation='sigmoid', kernel_initializer='random_normal'))\n",
    "\t# Compile model\n",
    "\tmodel.compile(loss='binary_crossentropy', optimizer='adam', metrics=['accuracy'])\n",
    "\treturn model"
   ]
  },
  {
   "cell_type": "code",
   "execution_count": 249,
   "metadata": {},
   "outputs": [],
   "source": [
    "model = KerasClassifier(model=create_model)"
   ]
  },
  {
   "cell_type": "code",
   "execution_count": 250,
   "metadata": {},
   "outputs": [],
   "source": [
    "grid = GridSearchCV(estimator=model, param_grid=param_grid, n_jobs=-1, cv=3)\n",
    "grid_result = grid.fit(X_train,y_train)"
   ]
  },
  {
   "cell_type": "code",
   "execution_count": null,
   "metadata": {},
   "outputs": [
    {
     "data": {
      "text/plain": [
       "{'batch_size': 70, 'epochs': 70}"
      ]
     },
     "execution_count": 149,
     "metadata": {},
     "output_type": "execute_result"
    }
   ],
   "source": [
    "grid_result.best_params_"
   ]
  },
  {
   "cell_type": "code",
   "execution_count": null,
   "metadata": {},
   "outputs": [
    {
     "data": {
      "text/plain": [
       "0.7090196078431372"
      ]
     },
     "execution_count": 150,
     "metadata": {},
     "output_type": "execute_result"
    }
   ],
   "source": [
    "grid_result.best_score_"
   ]
  },
  {
   "cell_type": "code",
   "execution_count": null,
   "metadata": {},
   "outputs": [],
   "source": [
    "cate_nn=grid_result.best_estimator_"
   ]
  },
  {
   "cell_type": "code",
   "execution_count": null,
   "metadata": {},
   "outputs": [
    {
     "name": "stdout",
     "output_type": "stream",
     "text": [
      "13/13 [==============================] - 0s 688us/step\n"
     ]
    },
    {
     "data": {
      "text/plain": [
       "0.7044444444444444"
      ]
     },
     "execution_count": 152,
     "metadata": {},
     "output_type": "execute_result"
    }
   ],
   "source": [
    "cate_nn.score(X_test,y_test)"
   ]
  },
  {
   "cell_type": "code",
   "execution_count": null,
   "metadata": {},
   "outputs": [],
   "source": []
  }
 ],
 "metadata": {
  "kernelspec": {
   "display_name": "Python 3.10.5 64-bit",
   "language": "python",
   "name": "python3"
  },
  "language_info": {
   "codemirror_mode": {
    "name": "ipython",
    "version": 3
   },
   "file_extension": ".py",
   "mimetype": "text/x-python",
   "name": "python",
   "nbconvert_exporter": "python",
   "pygments_lexer": "ipython3",
   "version": "3.10.5"
  },
  "orig_nbformat": 4,
  "vscode": {
   "interpreter": {
    "hash": "229cdfb8eedfa4964725b7eb0da8d7a63b25d97a6ab808f09bd6b506844c0629"
   }
  }
 },
 "nbformat": 4,
 "nbformat_minor": 2
}
