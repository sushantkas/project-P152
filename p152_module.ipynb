{
 "cells": [
  {
   "cell_type": "code",
   "execution_count": 1,
   "metadata": {},
   "outputs": [],
   "source": [
    "import pandas as pd\n",
    "import numpy as np\n",
    "import seaborn as sns\n",
    "import matplotlib.pyplot as plt\n",
    "import warnings\n",
    "warnings.filterwarnings(\"ignore\")"
   ]
  },
  {
   "cell_type": "code",
   "execution_count": 2,
   "metadata": {},
   "outputs": [],
   "source": [
    "p152=pd.read_csv(\"pronostico_dataset.csv\", sep=\";\",index_col=\"ID\")"
   ]
  },
  {
   "cell_type": "code",
   "execution_count": 3,
   "metadata": {},
   "outputs": [
    {
     "data": {
      "text/html": [
       "<div>\n",
       "<style scoped>\n",
       "    .dataframe tbody tr th:only-of-type {\n",
       "        vertical-align: middle;\n",
       "    }\n",
       "\n",
       "    .dataframe tbody tr th {\n",
       "        vertical-align: top;\n",
       "    }\n",
       "\n",
       "    .dataframe thead th {\n",
       "        text-align: right;\n",
       "    }\n",
       "</style>\n",
       "<table border=\"1\" class=\"dataframe\">\n",
       "  <thead>\n",
       "    <tr style=\"text-align: right;\">\n",
       "      <th></th>\n",
       "      <th>age</th>\n",
       "      <th>systolic_bp</th>\n",
       "      <th>diastolic_bp</th>\n",
       "      <th>cholesterol</th>\n",
       "    </tr>\n",
       "  </thead>\n",
       "  <tbody>\n",
       "    <tr>\n",
       "      <th>count</th>\n",
       "      <td>6000.000000</td>\n",
       "      <td>6000.000000</td>\n",
       "      <td>6000.000000</td>\n",
       "      <td>6000.000000</td>\n",
       "    </tr>\n",
       "    <tr>\n",
       "      <th>mean</th>\n",
       "      <td>60.464121</td>\n",
       "      <td>100.694822</td>\n",
       "      <td>90.505547</td>\n",
       "      <td>100.628255</td>\n",
       "    </tr>\n",
       "    <tr>\n",
       "      <th>std</th>\n",
       "      <td>8.564392</td>\n",
       "      <td>10.669267</td>\n",
       "      <td>9.648200</td>\n",
       "      <td>10.433915</td>\n",
       "    </tr>\n",
       "    <tr>\n",
       "      <th>min</th>\n",
       "      <td>35.164761</td>\n",
       "      <td>69.675429</td>\n",
       "      <td>62.807105</td>\n",
       "      <td>69.967453</td>\n",
       "    </tr>\n",
       "    <tr>\n",
       "      <th>25%</th>\n",
       "      <td>54.371941</td>\n",
       "      <td>93.267420</td>\n",
       "      <td>83.641788</td>\n",
       "      <td>93.202373</td>\n",
       "    </tr>\n",
       "    <tr>\n",
       "      <th>50%</th>\n",
       "      <td>59.831159</td>\n",
       "      <td>100.119926</td>\n",
       "      <td>89.912429</td>\n",
       "      <td>100.060637</td>\n",
       "    </tr>\n",
       "    <tr>\n",
       "      <th>75%</th>\n",
       "      <td>65.809652</td>\n",
       "      <td>107.439501</td>\n",
       "      <td>96.682405</td>\n",
       "      <td>107.250829</td>\n",
       "    </tr>\n",
       "    <tr>\n",
       "      <th>max</th>\n",
       "      <td>103.279497</td>\n",
       "      <td>151.699660</td>\n",
       "      <td>133.456382</td>\n",
       "      <td>148.233544</td>\n",
       "    </tr>\n",
       "  </tbody>\n",
       "</table>\n",
       "</div>"
      ],
      "text/plain": [
       "               age  systolic_bp  diastolic_bp  cholesterol\n",
       "count  6000.000000  6000.000000   6000.000000  6000.000000\n",
       "mean     60.464121   100.694822     90.505547   100.628255\n",
       "std       8.564392    10.669267      9.648200    10.433915\n",
       "min      35.164761    69.675429     62.807105    69.967453\n",
       "25%      54.371941    93.267420     83.641788    93.202373\n",
       "50%      59.831159   100.119926     89.912429   100.060637\n",
       "75%      65.809652   107.439501     96.682405   107.250829\n",
       "max     103.279497   151.699660    133.456382   148.233544"
      ]
     },
     "execution_count": 3,
     "metadata": {},
     "output_type": "execute_result"
    }
   ],
   "source": [
    "p152.describe()"
   ]
  },
  {
   "cell_type": "code",
   "execution_count": 4,
   "metadata": {},
   "outputs": [],
   "source": [
    "def age_Cate(X):\n",
    "    if X>=35 and X<45:\n",
    "        y=\"35-45\"\n",
    "    elif X>=45 and X<55:\n",
    "        y=\"45-55\"\n",
    "    elif X>=55 and X<65:\n",
    "        y=\"55-65\"\n",
    "    elif X>=65 and X<75:\n",
    "        y=\"65-75\"\n",
    "    elif X>=75 and X<85:\n",
    "        y=\"75-85\"\n",
    "    elif X>=85 and X<95:\n",
    "        y=\"85-95\"\n",
    "    elif X>=95 and X<100:\n",
    "        y=\"95-100\"\n",
    "    elif X>=100 and X<105:\n",
    "        y=\"100-105\"\n",
    "    return y"
   ]
  },
  {
   "cell_type": "code",
   "execution_count": 5,
   "metadata": {},
   "outputs": [],
   "source": [
    "def systolic_bp(x):\n",
    "    if x <=120:\n",
    "        y=\"Normal_bp\"\n",
    "    elif x>120 and x<=130:\n",
    "        y=\"Elevated\"\n",
    "    elif x>130 and x<=140:\n",
    "        y=\"Stage_1_hypertension\"\n",
    "    elif x>140 and x<=159:\n",
    "        y=\"Stage_2_hypertension\"\n",
    "    elif x>160:\n",
    "        y=\"Stage_2_hypertension\"\n",
    "    return y"
   ]
  },
  {
   "cell_type": "code",
   "execution_count": 6,
   "metadata": {},
   "outputs": [],
   "source": [
    "def diastolic_bp(x):\n",
    "    if x <=80:\n",
    "        y=\"Normal_bp\"\n",
    "    elif x>80 and x<=90:\n",
    "        y=\"Stage_1_hypertension\"\n",
    "    elif x>90 and x<=120:\n",
    "        y=\"Stage_2_hypertension\"\n",
    "    elif x>120:\n",
    "        y=\"Hypertensive_crisis\"\n",
    "    return y"
   ]
  },
  {
   "cell_type": "code",
   "execution_count": 7,
   "metadata": {},
   "outputs": [],
   "source": [
    "def cholestrol(x):\n",
    "    if x<=100:\n",
    "        y=\"optimal\"\n",
    "    elif x>100 and x<=130:\n",
    "        y=\"above_optimal\"\n",
    "    elif x>130 and x<=160:\n",
    "        y=\"above_optimal\"\n",
    "    elif x>160 and x<=190:\n",
    "        y=\"Borderline_high\"\n",
    "    return y"
   ]
  },
  {
   "cell_type": "code",
   "execution_count": 8,
   "metadata": {},
   "outputs": [
    {
     "data": {
      "text/plain": [
       "<function vars>"
      ]
     },
     "execution_count": 8,
     "metadata": {},
     "output_type": "execute_result"
    }
   ],
   "source": [
    "vars"
   ]
  },
  {
   "cell_type": "code",
   "execution_count": null,
   "metadata": {},
   "outputs": [],
   "source": []
  }
 ],
 "metadata": {
  "kernelspec": {
   "display_name": "Python 3.10.5 64-bit",
   "language": "python",
   "name": "python3"
  },
  "language_info": {
   "codemirror_mode": {
    "name": "ipython",
    "version": 3
   },
   "file_extension": ".py",
   "mimetype": "text/x-python",
   "name": "python",
   "nbconvert_exporter": "python",
   "pygments_lexer": "ipython3",
   "version": "3.10.5"
  },
  "orig_nbformat": 4,
  "vscode": {
   "interpreter": {
    "hash": "229cdfb8eedfa4964725b7eb0da8d7a63b25d97a6ab808f09bd6b506844c0629"
   }
  }
 },
 "nbformat": 4,
 "nbformat_minor": 2
}
